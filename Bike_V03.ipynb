{
 "cells": [
  {
   "cell_type": "markdown",
   "metadata": {
    "id": "Zf79UGEtorlT"
   },
   "source": [
    "## **1. Audit + Exploration des données**"
   ]
  },
  {
   "cell_type": "markdown",
   "metadata": {
    "id": "6gPfrQ0qvmYp"
   },
   "source": [
    "**1.1.Avant Aggrégation  des données par jour**"
   ]
  },
  {
   "cell_type": "markdown",
   "metadata": {
    "id": "Rl386hKVD0K5"
   },
   "source": [
    "## *a- Chargement de données :*"
   ]
  },
  {
   "cell_type": "code",
   "execution_count": 115,
   "metadata": {
    "colab": {
     "base_uri": "https://localhost:8080/"
    },
    "id": "oNZjs3NchOTG",
    "outputId": "3f06f60c-f8ce-44f8-92ad-f543a11a4aab"
   },
   "outputs": [
    {
     "name": "stdout",
     "output_type": "stream",
     "text": [
      "<class 'pandas.core.frame.DataFrame'>\n",
      "RangeIndex: 17379 entries, 0 to 17378\n",
      "Data columns (total 9 columns):\n",
      " #   Column      Non-Null Count  Dtype         \n",
      "---  ------      --------------  -----         \n",
      " 0   dteday      17379 non-null  datetime64[ns]\n",
      " 1   hr          17379 non-null  int64         \n",
      " 2   weathersit  17379 non-null  object        \n",
      " 3   hum         17379 non-null  float64       \n",
      " 4   windspeed   17379 non-null  float64       \n",
      " 5   temp        17379 non-null  float64       \n",
      " 6   atemp       17379 non-null  float64       \n",
      " 7   cnt         17379 non-null  int64         \n",
      " 8   weekday     17379 non-null  object        \n",
      "dtypes: datetime64[ns](1), float64(4), int64(2), object(2)\n",
      "memory usage: 1.2+ MB\n"
     ]
    }
   ],
   "source": [
    "# import des bibliothéques\n",
    "%matplotlib inline\n",
    "import pandas as pd\n",
    "import numpy as np\n",
    "import matplotlib.pyplot as plt\n",
    "from scipy.stats import pearsonr\n",
    "from scipy import stats\n",
    "\n",
    "\n",
    "# charger le jeu de données bike \n",
    "\n",
    "data = pd.read_csv('https://assets-datascientest.s3-eu-west-1.amazonaws.com/de/total/bike.csv')\n",
    "data['dteday'] = pd.to_datetime(data.dteday, format='%Y-%m-%d')\n",
    "\n",
    "# ajout de la colonne weekday pour le jour de semaine\n",
    "data[\"weekday\"]=data[\"dteday\"].dt.day_name()\n",
    "\n",
    "# informations des données data\n",
    "data.info()"
   ]
  },
  {
   "cell_type": "markdown",
   "metadata": {
    "id": "8lybBODFk6an"
   },
   "source": [
    "Le jeu de données de bike contient 7 variables explicatives (dteday,hr,weathersit,hum,windspeed,temp,atemp) et une variable cible expliquée cnt, pas de NAN dans les données . L'objectif est de prédire le nombre de vélos utilisés d'un jour au lendemain . Il s'agit d'une problématique de regression puisque la cible cnt est **quantitative**\n",
    "\n",
    "\n",
    "\n",
    "\n"
   ]
  },
  {
   "cell_type": "code",
   "execution_count": 116,
   "metadata": {
    "colab": {
     "base_uri": "https://localhost:8080/",
     "height": 300
    },
    "id": "iV3mRa4nlqRV",
    "outputId": "03484fed-0396-4b61-c5b1-8e35a33a545f"
   },
   "outputs": [
    {
     "data": {
      "text/html": [
       "<div>\n",
       "<style scoped>\n",
       "    .dataframe tbody tr th:only-of-type {\n",
       "        vertical-align: middle;\n",
       "    }\n",
       "\n",
       "    .dataframe tbody tr th {\n",
       "        vertical-align: top;\n",
       "    }\n",
       "\n",
       "    .dataframe thead th {\n",
       "        text-align: right;\n",
       "    }\n",
       "</style>\n",
       "<table border=\"1\" class=\"dataframe\">\n",
       "  <thead>\n",
       "    <tr style=\"text-align: right;\">\n",
       "      <th></th>\n",
       "      <th>hr</th>\n",
       "      <th>hum</th>\n",
       "      <th>windspeed</th>\n",
       "      <th>temp</th>\n",
       "      <th>atemp</th>\n",
       "      <th>cnt</th>\n",
       "    </tr>\n",
       "  </thead>\n",
       "  <tbody>\n",
       "    <tr>\n",
       "      <th>count</th>\n",
       "      <td>17379.000000</td>\n",
       "      <td>17379.000000</td>\n",
       "      <td>17379.000000</td>\n",
       "      <td>17379.000000</td>\n",
       "      <td>17379.000000</td>\n",
       "      <td>17379.000000</td>\n",
       "    </tr>\n",
       "    <tr>\n",
       "      <th>mean</th>\n",
       "      <td>11.546752</td>\n",
       "      <td>0.627229</td>\n",
       "      <td>12.736540</td>\n",
       "      <td>15.358397</td>\n",
       "      <td>15.401157</td>\n",
       "      <td>189.463088</td>\n",
       "    </tr>\n",
       "    <tr>\n",
       "      <th>std</th>\n",
       "      <td>6.914405</td>\n",
       "      <td>0.192930</td>\n",
       "      <td>8.196795</td>\n",
       "      <td>9.050138</td>\n",
       "      <td>11.342114</td>\n",
       "      <td>181.387599</td>\n",
       "    </tr>\n",
       "    <tr>\n",
       "      <th>min</th>\n",
       "      <td>0.000000</td>\n",
       "      <td>0.000000</td>\n",
       "      <td>0.000000</td>\n",
       "      <td>-7.060000</td>\n",
       "      <td>-16.000000</td>\n",
       "      <td>1.000000</td>\n",
       "    </tr>\n",
       "    <tr>\n",
       "      <th>25%</th>\n",
       "      <td>6.000000</td>\n",
       "      <td>0.480000</td>\n",
       "      <td>7.001500</td>\n",
       "      <td>7.980000</td>\n",
       "      <td>5.997800</td>\n",
       "      <td>40.000000</td>\n",
       "    </tr>\n",
       "    <tr>\n",
       "      <th>50%</th>\n",
       "      <td>12.000000</td>\n",
       "      <td>0.630000</td>\n",
       "      <td>12.998000</td>\n",
       "      <td>15.500000</td>\n",
       "      <td>15.996800</td>\n",
       "      <td>142.000000</td>\n",
       "    </tr>\n",
       "    <tr>\n",
       "      <th>75%</th>\n",
       "      <td>18.000000</td>\n",
       "      <td>0.780000</td>\n",
       "      <td>16.997900</td>\n",
       "      <td>23.020000</td>\n",
       "      <td>24.999200</td>\n",
       "      <td>281.000000</td>\n",
       "    </tr>\n",
       "    <tr>\n",
       "      <th>max</th>\n",
       "      <td>23.000000</td>\n",
       "      <td>1.000000</td>\n",
       "      <td>56.996900</td>\n",
       "      <td>39.000000</td>\n",
       "      <td>50.000000</td>\n",
       "      <td>977.000000</td>\n",
       "    </tr>\n",
       "  </tbody>\n",
       "</table>\n",
       "</div>"
      ],
      "text/plain": [
       "                 hr           hum     windspeed          temp         atemp  \\\n",
       "count  17379.000000  17379.000000  17379.000000  17379.000000  17379.000000   \n",
       "mean      11.546752      0.627229     12.736540     15.358397     15.401157   \n",
       "std        6.914405      0.192930      8.196795      9.050138     11.342114   \n",
       "min        0.000000      0.000000      0.000000     -7.060000    -16.000000   \n",
       "25%        6.000000      0.480000      7.001500      7.980000      5.997800   \n",
       "50%       12.000000      0.630000     12.998000     15.500000     15.996800   \n",
       "75%       18.000000      0.780000     16.997900     23.020000     24.999200   \n",
       "max       23.000000      1.000000     56.996900     39.000000     50.000000   \n",
       "\n",
       "                cnt  \n",
       "count  17379.000000  \n",
       "mean     189.463088  \n",
       "std      181.387599  \n",
       "min        1.000000  \n",
       "25%       40.000000  \n",
       "50%      142.000000  \n",
       "75%      281.000000  \n",
       "max      977.000000  "
      ]
     },
     "execution_count": 116,
     "metadata": {},
     "output_type": "execute_result"
    }
   ],
   "source": [
    "# description des données\n",
    "data.describe()"
   ]
  },
  {
   "cell_type": "code",
   "execution_count": 117,
   "metadata": {
    "colab": {
     "base_uri": "https://localhost:8080/",
     "height": 206
    },
    "id": "XYEU9cgqrHhU",
    "outputId": "f38aa63d-38d9-49b3-97d8-17f6dc9ae51f"
   },
   "outputs": [
    {
     "data": {
      "text/html": [
       "<div>\n",
       "<style scoped>\n",
       "    .dataframe tbody tr th:only-of-type {\n",
       "        vertical-align: middle;\n",
       "    }\n",
       "\n",
       "    .dataframe tbody tr th {\n",
       "        vertical-align: top;\n",
       "    }\n",
       "\n",
       "    .dataframe thead th {\n",
       "        text-align: right;\n",
       "    }\n",
       "</style>\n",
       "<table border=\"1\" class=\"dataframe\">\n",
       "  <thead>\n",
       "    <tr style=\"text-align: right;\">\n",
       "      <th></th>\n",
       "      <th>dteday</th>\n",
       "      <th>hr</th>\n",
       "      <th>weathersit</th>\n",
       "      <th>hum</th>\n",
       "      <th>windspeed</th>\n",
       "      <th>temp</th>\n",
       "      <th>atemp</th>\n",
       "      <th>cnt</th>\n",
       "      <th>weekday</th>\n",
       "    </tr>\n",
       "  </thead>\n",
       "  <tbody>\n",
       "    <tr>\n",
       "      <th>0</th>\n",
       "      <td>2011-01-01</td>\n",
       "      <td>0</td>\n",
       "      <td>clear</td>\n",
       "      <td>0.81</td>\n",
       "      <td>0.0</td>\n",
       "      <td>3.28</td>\n",
       "      <td>3.0014</td>\n",
       "      <td>16</td>\n",
       "      <td>Saturday</td>\n",
       "    </tr>\n",
       "    <tr>\n",
       "      <th>1</th>\n",
       "      <td>2011-01-01</td>\n",
       "      <td>1</td>\n",
       "      <td>clear</td>\n",
       "      <td>0.80</td>\n",
       "      <td>0.0</td>\n",
       "      <td>2.34</td>\n",
       "      <td>1.9982</td>\n",
       "      <td>40</td>\n",
       "      <td>Saturday</td>\n",
       "    </tr>\n",
       "    <tr>\n",
       "      <th>2</th>\n",
       "      <td>2011-01-01</td>\n",
       "      <td>2</td>\n",
       "      <td>clear</td>\n",
       "      <td>0.80</td>\n",
       "      <td>0.0</td>\n",
       "      <td>2.34</td>\n",
       "      <td>1.9982</td>\n",
       "      <td>32</td>\n",
       "      <td>Saturday</td>\n",
       "    </tr>\n",
       "    <tr>\n",
       "      <th>3</th>\n",
       "      <td>2011-01-01</td>\n",
       "      <td>3</td>\n",
       "      <td>clear</td>\n",
       "      <td>0.75</td>\n",
       "      <td>0.0</td>\n",
       "      <td>3.28</td>\n",
       "      <td>3.0014</td>\n",
       "      <td>13</td>\n",
       "      <td>Saturday</td>\n",
       "    </tr>\n",
       "    <tr>\n",
       "      <th>4</th>\n",
       "      <td>2011-01-01</td>\n",
       "      <td>4</td>\n",
       "      <td>clear</td>\n",
       "      <td>0.75</td>\n",
       "      <td>0.0</td>\n",
       "      <td>3.28</td>\n",
       "      <td>3.0014</td>\n",
       "      <td>1</td>\n",
       "      <td>Saturday</td>\n",
       "    </tr>\n",
       "  </tbody>\n",
       "</table>\n",
       "</div>"
      ],
      "text/plain": [
       "      dteday  hr weathersit   hum  windspeed  temp   atemp  cnt   weekday\n",
       "0 2011-01-01   0      clear  0.81        0.0  3.28  3.0014   16  Saturday\n",
       "1 2011-01-01   1      clear  0.80        0.0  2.34  1.9982   40  Saturday\n",
       "2 2011-01-01   2      clear  0.80        0.0  2.34  1.9982   32  Saturday\n",
       "3 2011-01-01   3      clear  0.75        0.0  3.28  3.0014   13  Saturday\n",
       "4 2011-01-01   4      clear  0.75        0.0  3.28  3.0014    1  Saturday"
      ]
     },
     "execution_count": 117,
     "metadata": {},
     "output_type": "execute_result"
    }
   ],
   "source": [
    "# Apercu des données\n",
    "data.head()"
   ]
  },
  {
   "cell_type": "markdown",
   "metadata": {
    "id": "E13bJSNDD6nZ"
   },
   "source": [
    "## *b-Visulisation de données :*"
   ]
  },
  {
   "cell_type": "markdown",
   "metadata": {
    "id": "Nae-nb2WELei"
   },
   "source": [
    "Premiére analyse graphique ci-dessous de la variable cnt avec des boxplots montre qu'il y'a beaucoup d'outliers"
   ]
  },
  {
   "cell_type": "code",
   "execution_count": 118,
   "metadata": {
    "colab": {
     "base_uri": "https://localhost:8080/",
     "height": 1000
    },
    "id": "4bxGzb4wEDfy",
    "outputId": "812e335a-20f6-4609-f409-cf5f2f30cf93"
   },
   "outputs": [
    {
     "name": "stderr",
     "output_type": "stream",
     "text": [
      "No handles with labels found to put in legend.\n"
     ]
    },
    {
     "data": {
      "image/png": "[encoded data removed]",
      "text/plain": [
       "<Figure size 504x504 with 1 Axes>"
      ]
     },
     "metadata": {
      "needs_background": "light"
     },
     "output_type": "display_data"
    },
    {
     "data": {
      "image/png": "[encoded data removed]",
      "text/plain": [
       "<Figure size 720x720 with 1 Axes>"
      ]
     },
     "metadata": {
      "needs_background": "light"
     },
     "output_type": "display_data"
    }
   ],
   "source": [
    "\n",
    "data.boxplot(column= 'cnt', by='weathersit', figsize= (7,7));\n",
    "data.boxplot(column= 'cnt', by='hr', figsize= (10,10));\n",
    "plt.legend();"
   ]
  },
  {
   "cell_type": "markdown",
   "metadata": {
    "id": "i4-y-b0HZRvr"
   },
   "source": [
    "**1.2.Aprés Aggrégation  des données par jour**"
   ]
  },
  {
   "cell_type": "markdown",
   "metadata": {
    "id": "fPK2McHa0X6-"
   },
   "source": [
    "1.2.1.Aggrégation des données par jour de l'année"
   ]
  },
  {
   "cell_type": "markdown",
   "metadata": {
    "id": "o810cmqvtpvK"
   },
   "source": [
    "Nous allons maintenant aggréger les données par jour de l'année , en utilsant un groupby sur 'dteday' , le nouveau jeu de données est nommé 'data_jour_annee'"
   ]
  },
  {
   "cell_type": "code",
   "execution_count": 119,
   "metadata": {
    "colab": {
     "base_uri": "https://localhost:8080/",
     "height": 455
    },
    "id": "gJvFijRoKLQQ",
    "outputId": "49de8b23-2700-4b8b-a088-5a6229612d92"
   },
   "outputs": [
    {
     "data": {
      "text/html": [
       "<div>\n",
       "<style scoped>\n",
       "    .dataframe tbody tr th:only-of-type {\n",
       "        vertical-align: middle;\n",
       "    }\n",
       "\n",
       "    .dataframe tbody tr th {\n",
       "        vertical-align: top;\n",
       "    }\n",
       "\n",
       "    .dataframe thead th {\n",
       "        text-align: right;\n",
       "    }\n",
       "</style>\n",
       "<table border=\"1\" class=\"dataframe\">\n",
       "  <thead>\n",
       "    <tr style=\"text-align: right;\">\n",
       "      <th></th>\n",
       "      <th>cnt</th>\n",
       "      <th>cnt_j_1</th>\n",
       "      <th>cnt_j_2</th>\n",
       "      <th>cnt_j_3</th>\n",
       "      <th>cnt_j_4</th>\n",
       "      <th>cnt_j_5</th>\n",
       "      <th>cnt_j_6</th>\n",
       "      <th>cnt_j_7</th>\n",
       "    </tr>\n",
       "    <tr>\n",
       "      <th>dteday</th>\n",
       "      <th></th>\n",
       "      <th></th>\n",
       "      <th></th>\n",
       "      <th></th>\n",
       "      <th></th>\n",
       "      <th></th>\n",
       "      <th></th>\n",
       "      <th></th>\n",
       "    </tr>\n",
       "  </thead>\n",
       "  <tbody>\n",
       "    <tr>\n",
       "      <th>2011-01-01</th>\n",
       "      <td>985</td>\n",
       "      <td>4548.5</td>\n",
       "      <td>4549.0</td>\n",
       "      <td>4551.0</td>\n",
       "      <td>4553.0</td>\n",
       "      <td>4558.0</td>\n",
       "      <td>4563.0</td>\n",
       "      <td>4566.0</td>\n",
       "    </tr>\n",
       "    <tr>\n",
       "      <th>2011-01-02</th>\n",
       "      <td>801</td>\n",
       "      <td>985.0</td>\n",
       "      <td>4549.0</td>\n",
       "      <td>4551.0</td>\n",
       "      <td>4553.0</td>\n",
       "      <td>4558.0</td>\n",
       "      <td>4563.0</td>\n",
       "      <td>4566.0</td>\n",
       "    </tr>\n",
       "    <tr>\n",
       "      <th>2011-01-03</th>\n",
       "      <td>1349</td>\n",
       "      <td>801.0</td>\n",
       "      <td>985.0</td>\n",
       "      <td>4551.0</td>\n",
       "      <td>4553.0</td>\n",
       "      <td>4558.0</td>\n",
       "      <td>4563.0</td>\n",
       "      <td>4566.0</td>\n",
       "    </tr>\n",
       "    <tr>\n",
       "      <th>2011-01-04</th>\n",
       "      <td>1562</td>\n",
       "      <td>1349.0</td>\n",
       "      <td>801.0</td>\n",
       "      <td>985.0</td>\n",
       "      <td>4553.0</td>\n",
       "      <td>4558.0</td>\n",
       "      <td>4563.0</td>\n",
       "      <td>4566.0</td>\n",
       "    </tr>\n",
       "    <tr>\n",
       "      <th>2011-01-05</th>\n",
       "      <td>1600</td>\n",
       "      <td>1562.0</td>\n",
       "      <td>1349.0</td>\n",
       "      <td>801.0</td>\n",
       "      <td>985.0</td>\n",
       "      <td>4558.0</td>\n",
       "      <td>4563.0</td>\n",
       "      <td>4566.0</td>\n",
       "    </tr>\n",
       "    <tr>\n",
       "      <th>...</th>\n",
       "      <td>...</td>\n",
       "      <td>...</td>\n",
       "      <td>...</td>\n",
       "      <td>...</td>\n",
       "      <td>...</td>\n",
       "      <td>...</td>\n",
       "      <td>...</td>\n",
       "      <td>...</td>\n",
       "    </tr>\n",
       "    <tr>\n",
       "      <th>2012-12-27</th>\n",
       "      <td>2114</td>\n",
       "      <td>441.0</td>\n",
       "      <td>1013.0</td>\n",
       "      <td>920.0</td>\n",
       "      <td>1787.0</td>\n",
       "      <td>1749.0</td>\n",
       "      <td>3623.0</td>\n",
       "      <td>4128.0</td>\n",
       "    </tr>\n",
       "    <tr>\n",
       "      <th>2012-12-28</th>\n",
       "      <td>3095</td>\n",
       "      <td>2114.0</td>\n",
       "      <td>441.0</td>\n",
       "      <td>1013.0</td>\n",
       "      <td>920.0</td>\n",
       "      <td>1787.0</td>\n",
       "      <td>1749.0</td>\n",
       "      <td>3623.0</td>\n",
       "    </tr>\n",
       "    <tr>\n",
       "      <th>2012-12-29</th>\n",
       "      <td>1341</td>\n",
       "      <td>3095.0</td>\n",
       "      <td>2114.0</td>\n",
       "      <td>441.0</td>\n",
       "      <td>1013.0</td>\n",
       "      <td>920.0</td>\n",
       "      <td>1787.0</td>\n",
       "      <td>1749.0</td>\n",
       "    </tr>\n",
       "    <tr>\n",
       "      <th>2012-12-30</th>\n",
       "      <td>1796</td>\n",
       "      <td>1341.0</td>\n",
       "      <td>3095.0</td>\n",
       "      <td>2114.0</td>\n",
       "      <td>441.0</td>\n",
       "      <td>1013.0</td>\n",
       "      <td>920.0</td>\n",
       "      <td>1787.0</td>\n",
       "    </tr>\n",
       "    <tr>\n",
       "      <th>2012-12-31</th>\n",
       "      <td>2729</td>\n",
       "      <td>1796.0</td>\n",
       "      <td>1341.0</td>\n",
       "      <td>3095.0</td>\n",
       "      <td>2114.0</td>\n",
       "      <td>441.0</td>\n",
       "      <td>1013.0</td>\n",
       "      <td>920.0</td>\n",
       "    </tr>\n",
       "  </tbody>\n",
       "</table>\n",
       "<p>731 rows × 8 columns</p>\n",
       "</div>"
      ],
      "text/plain": [
       "             cnt  cnt_j_1  cnt_j_2  cnt_j_3  cnt_j_4  cnt_j_5  cnt_j_6  \\\n",
       "dteday                                                                   \n",
       "2011-01-01   985   4548.5   4549.0   4551.0   4553.0   4558.0   4563.0   \n",
       "2011-01-02   801    985.0   4549.0   4551.0   4553.0   4558.0   4563.0   \n",
       "2011-01-03  1349    801.0    985.0   4551.0   4553.0   4558.0   4563.0   \n",
       "2011-01-04  1562   1349.0    801.0    985.0   4553.0   4558.0   4563.0   \n",
       "2011-01-05  1600   1562.0   1349.0    801.0    985.0   4558.0   4563.0   \n",
       "...          ...      ...      ...      ...      ...      ...      ...   \n",
       "2012-12-27  2114    441.0   1013.0    920.0   1787.0   1749.0   3623.0   \n",
       "2012-12-28  3095   2114.0    441.0   1013.0    920.0   1787.0   1749.0   \n",
       "2012-12-29  1341   3095.0   2114.0    441.0   1013.0    920.0   1787.0   \n",
       "2012-12-30  1796   1341.0   3095.0   2114.0    441.0   1013.0    920.0   \n",
       "2012-12-31  2729   1796.0   1341.0   3095.0   2114.0    441.0   1013.0   \n",
       "\n",
       "            cnt_j_7  \n",
       "dteday               \n",
       "2011-01-01   4566.0  \n",
       "2011-01-02   4566.0  \n",
       "2011-01-03   4566.0  \n",
       "2011-01-04   4566.0  \n",
       "2011-01-05   4566.0  \n",
       "...             ...  \n",
       "2012-12-27   4128.0  \n",
       "2012-12-28   3623.0  \n",
       "2012-12-29   1749.0  \n",
       "2012-12-30   1787.0  \n",
       "2012-12-31    920.0  \n",
       "\n",
       "[731 rows x 8 columns]"
      ]
     },
     "execution_count": 119,
     "metadata": {},
     "output_type": "execute_result"
    }
   ],
   "source": [
    "# créons un jeu de données qui contient  que le décompte de vélo du jour J et 7 derniers jours pendant 24 heures\n",
    "functions_to_apply = {\n",
    "    \n",
    "    'cnt' : 'sum'\n",
    "}\n",
    "cnt_data = data.groupby('dteday').agg(functions_to_apply)\n",
    "cnt_data['cnt_j_1']=cnt_data['cnt'].shift(periods=1)\n",
    "cnt_data['cnt_j_2']=cnt_data['cnt'].shift(periods=2)\n",
    "cnt_data['cnt_j_3']=cnt_data['cnt'].shift(periods=3)\n",
    "cnt_data['cnt_j_4']=cnt_data['cnt'].shift(periods=4)\n",
    "cnt_data['cnt_j_5']=cnt_data['cnt'].shift(periods=5)\n",
    "cnt_data['cnt_j_6']=cnt_data['cnt'].shift(periods=6)\n",
    "cnt_data['cnt_j_7']=cnt_data['cnt'].shift(periods=7)\n",
    "\n",
    "# remplaçons les valeurs nan par la mediane \n",
    "cnt_data = cnt_data.fillna(cnt_data.median())\n",
    "\n",
    "# Apercu des données cnt_data\n",
    "cnt_data"
   ]
  },
  {
   "cell_type": "code",
   "execution_count": 120,
   "metadata": {
    "colab": {
     "base_uri": "https://localhost:8080/",
     "height": 238
    },
    "id": "hsEoNTqlb96A",
    "outputId": "b457c164-4cfb-4b01-9791-7afc5ffebc3f"
   },
   "outputs": [
    {
     "data": {
      "text/html": [
       "<div>\n",
       "<style scoped>\n",
       "    .dataframe tbody tr th:only-of-type {\n",
       "        vertical-align: middle;\n",
       "    }\n",
       "\n",
       "    .dataframe tbody tr th {\n",
       "        vertical-align: top;\n",
       "    }\n",
       "\n",
       "    .dataframe thead th {\n",
       "        text-align: right;\n",
       "    }\n",
       "</style>\n",
       "<table border=\"1\" class=\"dataframe\">\n",
       "  <thead>\n",
       "    <tr style=\"text-align: right;\">\n",
       "      <th>weathersit</th>\n",
       "      <th>clear</th>\n",
       "      <th>cloudy</th>\n",
       "      <th>rainy</th>\n",
       "      <th>snowy</th>\n",
       "    </tr>\n",
       "    <tr>\n",
       "      <th>dteday</th>\n",
       "      <th></th>\n",
       "      <th></th>\n",
       "      <th></th>\n",
       "      <th></th>\n",
       "    </tr>\n",
       "  </thead>\n",
       "  <tbody>\n",
       "    <tr>\n",
       "      <th>2011-01-01</th>\n",
       "      <td>0.500000</td>\n",
       "      <td>0.416667</td>\n",
       "      <td>0.0</td>\n",
       "      <td>0.083333</td>\n",
       "    </tr>\n",
       "    <tr>\n",
       "      <th>2011-01-02</th>\n",
       "      <td>0.260870</td>\n",
       "      <td>0.521739</td>\n",
       "      <td>0.0</td>\n",
       "      <td>0.217391</td>\n",
       "    </tr>\n",
       "    <tr>\n",
       "      <th>2011-01-03</th>\n",
       "      <td>1.000000</td>\n",
       "      <td>0.000000</td>\n",
       "      <td>0.0</td>\n",
       "      <td>0.000000</td>\n",
       "    </tr>\n",
       "    <tr>\n",
       "      <th>2011-01-04</th>\n",
       "      <td>0.956522</td>\n",
       "      <td>0.043478</td>\n",
       "      <td>0.0</td>\n",
       "      <td>0.000000</td>\n",
       "    </tr>\n",
       "    <tr>\n",
       "      <th>2011-01-05</th>\n",
       "      <td>1.000000</td>\n",
       "      <td>0.000000</td>\n",
       "      <td>0.0</td>\n",
       "      <td>0.000000</td>\n",
       "    </tr>\n",
       "  </tbody>\n",
       "</table>\n",
       "</div>"
      ],
      "text/plain": [
       "weathersit     clear    cloudy  rainy     snowy\n",
       "dteday                                         \n",
       "2011-01-01  0.500000  0.416667    0.0  0.083333\n",
       "2011-01-02  0.260870  0.521739    0.0  0.217391\n",
       "2011-01-03  1.000000  0.000000    0.0  0.000000\n",
       "2011-01-04  0.956522  0.043478    0.0  0.000000\n",
       "2011-01-05  1.000000  0.000000    0.0  0.000000"
      ]
     },
     "execution_count": 120,
     "metadata": {},
     "output_type": "execute_result"
    }
   ],
   "source": [
    "# créons un jeu de données qui affiche le pourcentage de chaque classe du weathersit pendant 24 heures\n",
    "weathersit_class = data.groupby('dteday').weathersit.value_counts(normalize=True).unstack().fillna(0)\n",
    "\n",
    "# Apercu des données weathersit_class\n",
    "weathersit_class.head()"
   ]
  },
  {
   "cell_type": "code",
   "execution_count": 121,
   "metadata": {
    "id": "dOhQ3B-hZij5"
   },
   "outputs": [],
   "source": [
    "# Fonctions quantiles a appliquer dans functions_to_apply\n",
    "\n",
    "# 25th Percentile\n",
    "def q25(x):\n",
    "    return x.quantile(0.25)\n",
    "\n",
    "# 50th Percentile\n",
    "def q50(x):\n",
    "    return x.quantile(0.5)\n",
    "\n",
    "# 75th Percentile\n",
    "def q75(x):\n",
    "    return x.quantile(0.75)\n",
    "\n",
    "# fonction functions_to_apply pour passer en arguement dans agg \n",
    "functions_to_apply = {\n",
    "    \n",
    "    'hum' : ['min','max','mean',q25,q50,q75],\n",
    "    'windspeed' :['min','max','mean',q25,q50,q75],\n",
    "    'temp' : ['min','max','mean',q25,q50,q75],\n",
    "    'atemp' : ['min','max','mean',q25,q50,q75]\n",
    "  \n",
    "}\n",
    "#jeu de données data_jour_annee_avant_concat \n",
    "data_jour_annee_avant_concat = data.groupby('dteday').agg(functions_to_apply)"
   ]
  },
  {
   "cell_type": "code",
   "execution_count": 122,
   "metadata": {
    "colab": {
     "base_uri": "https://localhost:8080/",
     "height": 507
    },
    "id": "Qjpy2aQPt7i8",
    "outputId": "f6398221-e5e5-46a1-9d60-4e9110842669"
   },
   "outputs": [
    {
     "data": {
      "text/html": [
       "<div>\n",
       "<style scoped>\n",
       "    .dataframe tbody tr th:only-of-type {\n",
       "        vertical-align: middle;\n",
       "    }\n",
       "\n",
       "    .dataframe tbody tr th {\n",
       "        vertical-align: top;\n",
       "    }\n",
       "\n",
       "    .dataframe thead tr th {\n",
       "        text-align: left;\n",
       "    }\n",
       "\n",
       "    .dataframe thead tr:last-of-type th {\n",
       "        text-align: right;\n",
       "    }\n",
       "</style>\n",
       "<table border=\"1\" class=\"dataframe\">\n",
       "  <thead>\n",
       "    <tr>\n",
       "      <th></th>\n",
       "      <th colspan=\"6\" halign=\"left\">hum</th>\n",
       "      <th colspan=\"4\" halign=\"left\">windspeed</th>\n",
       "      <th>...</th>\n",
       "      <th colspan=\"4\" halign=\"left\">temp</th>\n",
       "      <th colspan=\"6\" halign=\"left\">atemp</th>\n",
       "    </tr>\n",
       "    <tr>\n",
       "      <th></th>\n",
       "      <th>min</th>\n",
       "      <th>max</th>\n",
       "      <th>mean</th>\n",
       "      <th>q25</th>\n",
       "      <th>q50</th>\n",
       "      <th>q75</th>\n",
       "      <th>min</th>\n",
       "      <th>max</th>\n",
       "      <th>mean</th>\n",
       "      <th>q25</th>\n",
       "      <th>...</th>\n",
       "      <th>mean</th>\n",
       "      <th>q25</th>\n",
       "      <th>q50</th>\n",
       "      <th>q75</th>\n",
       "      <th>min</th>\n",
       "      <th>max</th>\n",
       "      <th>mean</th>\n",
       "      <th>q25</th>\n",
       "      <th>q50</th>\n",
       "      <th>q75</th>\n",
       "    </tr>\n",
       "    <tr>\n",
       "      <th>dteday</th>\n",
       "      <th></th>\n",
       "      <th></th>\n",
       "      <th></th>\n",
       "      <th></th>\n",
       "      <th></th>\n",
       "      <th></th>\n",
       "      <th></th>\n",
       "      <th></th>\n",
       "      <th></th>\n",
       "      <th></th>\n",
       "      <th></th>\n",
       "      <th></th>\n",
       "      <th></th>\n",
       "      <th></th>\n",
       "      <th></th>\n",
       "      <th></th>\n",
       "      <th></th>\n",
       "      <th></th>\n",
       "      <th></th>\n",
       "      <th></th>\n",
       "      <th></th>\n",
       "    </tr>\n",
       "  </thead>\n",
       "  <tbody>\n",
       "    <tr>\n",
       "      <th>2011-01-01</th>\n",
       "      <td>0.72</td>\n",
       "      <td>0.94</td>\n",
       "      <td>0.805833</td>\n",
       "      <td>0.7575</td>\n",
       "      <td>0.800</td>\n",
       "      <td>0.8625</td>\n",
       "      <td>0.0000</td>\n",
       "      <td>19.9995</td>\n",
       "      <td>10.749871</td>\n",
       "      <td>0.000000</td>\n",
       "      <td>...</td>\n",
       "      <td>8.175833</td>\n",
       "      <td>3.28</td>\n",
       "      <td>10.33</td>\n",
       "      <td>11.740</td>\n",
       "      <td>1.0016</td>\n",
       "      <td>13.9970</td>\n",
       "      <td>7.999250</td>\n",
       "      <td>3.00140</td>\n",
       "      <td>10.4990</td>\n",
       "      <td>11.99720</td>\n",
       "    </tr>\n",
       "    <tr>\n",
       "      <th>2011-01-02</th>\n",
       "      <td>0.39</td>\n",
       "      <td>1.00</td>\n",
       "      <td>0.696087</td>\n",
       "      <td>0.5200</td>\n",
       "      <td>0.710</td>\n",
       "      <td>0.8100</td>\n",
       "      <td>8.9981</td>\n",
       "      <td>30.0026</td>\n",
       "      <td>16.652122</td>\n",
       "      <td>12.998000</td>\n",
       "      <td>...</td>\n",
       "      <td>9.083478</td>\n",
       "      <td>7.98</td>\n",
       "      <td>8.92</td>\n",
       "      <td>11.270</td>\n",
       "      <td>-2.0014</td>\n",
       "      <td>13.9970</td>\n",
       "      <td>7.346783</td>\n",
       "      <td>5.99780</td>\n",
       "      <td>7.0010</td>\n",
       "      <td>11.49890</td>\n",
       "    </tr>\n",
       "    <tr>\n",
       "      <th>2011-01-03</th>\n",
       "      <td>0.30</td>\n",
       "      <td>0.69</td>\n",
       "      <td>0.437273</td>\n",
       "      <td>0.3500</td>\n",
       "      <td>0.440</td>\n",
       "      <td>0.4925</td>\n",
       "      <td>0.0000</td>\n",
       "      <td>27.9993</td>\n",
       "      <td>16.636709</td>\n",
       "      <td>9.998075</td>\n",
       "      <td>...</td>\n",
       "      <td>1.229091</td>\n",
       "      <td>-0.48</td>\n",
       "      <td>1.40</td>\n",
       "      <td>3.045</td>\n",
       "      <td>-8.9974</td>\n",
       "      <td>1.0016</td>\n",
       "      <td>-3.499300</td>\n",
       "      <td>-6.74845</td>\n",
       "      <td>-2.9980</td>\n",
       "      <td>-0.99820</td>\n",
       "    </tr>\n",
       "    <tr>\n",
       "      <th>2011-01-04</th>\n",
       "      <td>0.48</td>\n",
       "      <td>0.74</td>\n",
       "      <td>0.590435</td>\n",
       "      <td>0.5100</td>\n",
       "      <td>0.590</td>\n",
       "      <td>0.6600</td>\n",
       "      <td>0.0000</td>\n",
       "      <td>22.0028</td>\n",
       "      <td>10.739809</td>\n",
       "      <td>7.001500</td>\n",
       "      <td>...</td>\n",
       "      <td>1.400000</td>\n",
       "      <td>-0.95</td>\n",
       "      <td>2.34</td>\n",
       "      <td>3.280</td>\n",
       "      <td>-6.9976</td>\n",
       "      <td>3.0014</td>\n",
       "      <td>-1.999965</td>\n",
       "      <td>-6.00100</td>\n",
       "      <td>-0.9982</td>\n",
       "      <td>1.00160</td>\n",
       "    </tr>\n",
       "    <tr>\n",
       "      <th>2011-01-05</th>\n",
       "      <td>0.28</td>\n",
       "      <td>0.74</td>\n",
       "      <td>0.436957</td>\n",
       "      <td>0.3500</td>\n",
       "      <td>0.400</td>\n",
       "      <td>0.4750</td>\n",
       "      <td>0.0000</td>\n",
       "      <td>22.0028</td>\n",
       "      <td>12.522300</td>\n",
       "      <td>7.999800</td>\n",
       "      <td>...</td>\n",
       "      <td>2.666957</td>\n",
       "      <td>1.40</td>\n",
       "      <td>2.34</td>\n",
       "      <td>3.750</td>\n",
       "      <td>-4.0012</td>\n",
       "      <td>5.0012</td>\n",
       "      <td>-0.868209</td>\n",
       "      <td>-2.99800</td>\n",
       "      <td>-0.9982</td>\n",
       "      <td>1.00160</td>\n",
       "    </tr>\n",
       "    <tr>\n",
       "      <th>...</th>\n",
       "      <td>...</td>\n",
       "      <td>...</td>\n",
       "      <td>...</td>\n",
       "      <td>...</td>\n",
       "      <td>...</td>\n",
       "      <td>...</td>\n",
       "      <td>...</td>\n",
       "      <td>...</td>\n",
       "      <td>...</td>\n",
       "      <td>...</td>\n",
       "      <td>...</td>\n",
       "      <td>...</td>\n",
       "      <td>...</td>\n",
       "      <td>...</td>\n",
       "      <td>...</td>\n",
       "      <td>...</td>\n",
       "      <td>...</td>\n",
       "      <td>...</td>\n",
       "      <td>...</td>\n",
       "      <td>...</td>\n",
       "      <td>...</td>\n",
       "    </tr>\n",
       "    <tr>\n",
       "      <th>2012-12-27</th>\n",
       "      <td>0.49</td>\n",
       "      <td>0.93</td>\n",
       "      <td>0.652917</td>\n",
       "      <td>0.5600</td>\n",
       "      <td>0.600</td>\n",
       "      <td>0.7125</td>\n",
       "      <td>11.0014</td>\n",
       "      <td>35.0008</td>\n",
       "      <td>23.458933</td>\n",
       "      <td>16.997900</td>\n",
       "      <td>...</td>\n",
       "      <td>3.945833</td>\n",
       "      <td>3.28</td>\n",
       "      <td>3.28</td>\n",
       "      <td>4.220</td>\n",
       "      <td>-2.9980</td>\n",
       "      <td>1.9982</td>\n",
       "      <td>-1.041650</td>\n",
       "      <td>-2.00140</td>\n",
       "      <td>-0.9982</td>\n",
       "      <td>-0.00160</td>\n",
       "    </tr>\n",
       "    <tr>\n",
       "      <th>2012-12-28</th>\n",
       "      <td>0.49</td>\n",
       "      <td>0.70</td>\n",
       "      <td>0.590000</td>\n",
       "      <td>0.5500</td>\n",
       "      <td>0.600</td>\n",
       "      <td>0.6400</td>\n",
       "      <td>0.0000</td>\n",
       "      <td>19.0012</td>\n",
       "      <td>10.416546</td>\n",
       "      <td>8.498950</td>\n",
       "      <td>...</td>\n",
       "      <td>3.906667</td>\n",
       "      <td>3.28</td>\n",
       "      <td>3.28</td>\n",
       "      <td>4.455</td>\n",
       "      <td>-2.0014</td>\n",
       "      <td>5.0012</td>\n",
       "      <td>0.833025</td>\n",
       "      <td>-0.25075</td>\n",
       "      <td>-0.0016</td>\n",
       "      <td>1.25075</td>\n",
       "    </tr>\n",
       "    <tr>\n",
       "      <th>2012-12-29</th>\n",
       "      <td>0.56</td>\n",
       "      <td>1.00</td>\n",
       "      <td>0.752917</td>\n",
       "      <td>0.7000</td>\n",
       "      <td>0.750</td>\n",
       "      <td>0.8100</td>\n",
       "      <td>0.0000</td>\n",
       "      <td>36.9974</td>\n",
       "      <td>8.333683</td>\n",
       "      <td>0.000000</td>\n",
       "      <td>...</td>\n",
       "      <td>3.906667</td>\n",
       "      <td>3.28</td>\n",
       "      <td>4.22</td>\n",
       "      <td>4.220</td>\n",
       "      <td>-0.0016</td>\n",
       "      <td>-0.0016</td>\n",
       "      <td>-0.001600</td>\n",
       "      <td>-0.00160</td>\n",
       "      <td>-0.0016</td>\n",
       "      <td>-0.00160</td>\n",
       "    </tr>\n",
       "    <tr>\n",
       "      <th>2012-12-30</th>\n",
       "      <td>0.36</td>\n",
       "      <td>0.61</td>\n",
       "      <td>0.483333</td>\n",
       "      <td>0.4100</td>\n",
       "      <td>0.510</td>\n",
       "      <td>0.5600</td>\n",
       "      <td>0.0000</td>\n",
       "      <td>43.9989</td>\n",
       "      <td>23.500529</td>\n",
       "      <td>18.001225</td>\n",
       "      <td>...</td>\n",
       "      <td>4.024167</td>\n",
       "      <td>3.28</td>\n",
       "      <td>4.22</td>\n",
       "      <td>4.455</td>\n",
       "      <td>-2.9980</td>\n",
       "      <td>7.9976</td>\n",
       "      <td>-0.707800</td>\n",
       "      <td>-2.00140</td>\n",
       "      <td>-0.9982</td>\n",
       "      <td>0.24920</td>\n",
       "    </tr>\n",
       "    <tr>\n",
       "      <th>2012-12-31</th>\n",
       "      <td>0.44</td>\n",
       "      <td>0.69</td>\n",
       "      <td>0.577500</td>\n",
       "      <td>0.5325</td>\n",
       "      <td>0.595</td>\n",
       "      <td>0.6400</td>\n",
       "      <td>6.0032</td>\n",
       "      <td>15.0013</td>\n",
       "      <td>10.374671</td>\n",
       "      <td>8.998100</td>\n",
       "      <td>...</td>\n",
       "      <td>2.144167</td>\n",
       "      <td>-0.48</td>\n",
       "      <td>2.81</td>\n",
       "      <td>4.220</td>\n",
       "      <td>-6.0010</td>\n",
       "      <td>3.0014</td>\n",
       "      <td>-1.249825</td>\n",
       "      <td>-4.00120</td>\n",
       "      <td>-0.9982</td>\n",
       "      <td>1.25075</td>\n",
       "    </tr>\n",
       "  </tbody>\n",
       "</table>\n",
       "<p>731 rows × 24 columns</p>\n",
       "</div>"
      ],
      "text/plain": [
       "             hum                                        windspeed           \\\n",
       "             min   max      mean     q25    q50     q75       min      max   \n",
       "dteday                                                                       \n",
       "2011-01-01  0.72  0.94  0.805833  0.7575  0.800  0.8625    0.0000  19.9995   \n",
       "2011-01-02  0.39  1.00  0.696087  0.5200  0.710  0.8100    8.9981  30.0026   \n",
       "2011-01-03  0.30  0.69  0.437273  0.3500  0.440  0.4925    0.0000  27.9993   \n",
       "2011-01-04  0.48  0.74  0.590435  0.5100  0.590  0.6600    0.0000  22.0028   \n",
       "2011-01-05  0.28  0.74  0.436957  0.3500  0.400  0.4750    0.0000  22.0028   \n",
       "...          ...   ...       ...     ...    ...     ...       ...      ...   \n",
       "2012-12-27  0.49  0.93  0.652917  0.5600  0.600  0.7125   11.0014  35.0008   \n",
       "2012-12-28  0.49  0.70  0.590000  0.5500  0.600  0.6400    0.0000  19.0012   \n",
       "2012-12-29  0.56  1.00  0.752917  0.7000  0.750  0.8100    0.0000  36.9974   \n",
       "2012-12-30  0.36  0.61  0.483333  0.4100  0.510  0.5600    0.0000  43.9989   \n",
       "2012-12-31  0.44  0.69  0.577500  0.5325  0.595  0.6400    6.0032  15.0013   \n",
       "\n",
       "                                  ...      temp                        atemp  \\\n",
       "                 mean        q25  ...      mean   q25    q50     q75     min   \n",
       "dteday                            ...                                          \n",
       "2011-01-01  10.749871   0.000000  ...  8.175833  3.28  10.33  11.740  1.0016   \n",
       "2011-01-02  16.652122  12.998000  ...  9.083478  7.98   8.92  11.270 -2.0014   \n",
       "2011-01-03  16.636709   9.998075  ...  1.229091 -0.48   1.40   3.045 -8.9974   \n",
       "2011-01-04  10.739809   7.001500  ...  1.400000 -0.95   2.34   3.280 -6.9976   \n",
       "2011-01-05  12.522300   7.999800  ...  2.666957  1.40   2.34   3.750 -4.0012   \n",
       "...               ...        ...  ...       ...   ...    ...     ...     ...   \n",
       "2012-12-27  23.458933  16.997900  ...  3.945833  3.28   3.28   4.220 -2.9980   \n",
       "2012-12-28  10.416546   8.498950  ...  3.906667  3.28   3.28   4.455 -2.0014   \n",
       "2012-12-29   8.333683   0.000000  ...  3.906667  3.28   4.22   4.220 -0.0016   \n",
       "2012-12-30  23.500529  18.001225  ...  4.024167  3.28   4.22   4.455 -2.9980   \n",
       "2012-12-31  10.374671   8.998100  ...  2.144167 -0.48   2.81   4.220 -6.0010   \n",
       "\n",
       "                                                           \n",
       "                max      mean      q25      q50       q75  \n",
       "dteday                                                     \n",
       "2011-01-01  13.9970  7.999250  3.00140  10.4990  11.99720  \n",
       "2011-01-02  13.9970  7.346783  5.99780   7.0010  11.49890  \n",
       "2011-01-03   1.0016 -3.499300 -6.74845  -2.9980  -0.99820  \n",
       "2011-01-04   3.0014 -1.999965 -6.00100  -0.9982   1.00160  \n",
       "2011-01-05   5.0012 -0.868209 -2.99800  -0.9982   1.00160  \n",
       "...             ...       ...      ...      ...       ...  \n",
       "2012-12-27   1.9982 -1.041650 -2.00140  -0.9982  -0.00160  \n",
       "2012-12-28   5.0012  0.833025 -0.25075  -0.0016   1.25075  \n",
       "2012-12-29  -0.0016 -0.001600 -0.00160  -0.0016  -0.00160  \n",
       "2012-12-30   7.9976 -0.707800 -2.00140  -0.9982   0.24920  \n",
       "2012-12-31   3.0014 -1.249825 -4.00120  -0.9982   1.25075  \n",
       "\n",
       "[731 rows x 24 columns]"
      ]
     },
     "execution_count": 122,
     "metadata": {},
     "output_type": "execute_result"
    }
   ],
   "source": [
    "#Apercu du data_jour_annee_avant_concat \n",
    "data_jour_annee_avant_concat\n"
   ]
  },
  {
   "cell_type": "code",
   "execution_count": 123,
   "metadata": {},
   "outputs": [
    {
     "data": {
      "text/plain": [
       "MultiIndex([(      'hum',  'min'),\n",
       "            (      'hum',  'max'),\n",
       "            (      'hum', 'mean'),\n",
       "            (      'hum',  'q25'),\n",
       "            (      'hum',  'q50'),\n",
       "            (      'hum',  'q75'),\n",
       "            ('windspeed',  'min'),\n",
       "            ('windspeed',  'max'),\n",
       "            ('windspeed', 'mean'),\n",
       "            ('windspeed',  'q25'),\n",
       "            ('windspeed',  'q50'),\n",
       "            ('windspeed',  'q75'),\n",
       "            (     'temp',  'min'),\n",
       "            (     'temp',  'max'),\n",
       "            (     'temp', 'mean'),\n",
       "            (     'temp',  'q25'),\n",
       "            (     'temp',  'q50'),\n",
       "            (     'temp',  'q75'),\n",
       "            (    'atemp',  'min'),\n",
       "            (    'atemp',  'max'),\n",
       "            (    'atemp', 'mean'),\n",
       "            (    'atemp',  'q25'),\n",
       "            (    'atemp',  'q50'),\n",
       "            (    'atemp',  'q75')],\n",
       "           )"
      ]
     },
     "execution_count": 123,
     "metadata": {},
     "output_type": "execute_result"
    }
   ],
   "source": [
    "data_jour_annee_avant_concat.columns"
   ]
  },
  {
   "cell_type": "code",
   "execution_count": 124,
   "metadata": {},
   "outputs": [
    {
     "name": "stdout",
     "output_type": "stream",
     "text": [
      "['hum_min' 'hum_max' 'hum_mean' 'hum_q25' 'hum_q50' 'hum_q75'\n",
      " 'windspeed_min' 'windspeed_max' 'windspeed_mean' 'windspeed_q25'\n",
      " 'windspeed_q50' 'windspeed_q75' 'temp_min' 'temp_max' 'temp_mean'\n",
      " 'temp_q25' 'temp_q50' 'temp_q75' 'atemp_min' 'atemp_max' 'atemp_mean'\n",
      " 'atemp_q25' 'atemp_q50' 'atemp_q75']\n"
     ]
    }
   ],
   "source": [
    "data_jour_annee_avant_concat.columns=['hum_min','hum_max','hum_mean','hum_q25','hum_q50','hum_q75','windspeed_min', 'windspeed_max',\n",
    "                                      'windspeed_mean', 'windspeed_q25', 'windspeed_q50', 'windspeed_q75','temp_min', 'temp_max',\n",
    "                                      'temp_mean', 'temp_q25', 'temp_q50', 'temp_q75' ,'atemp_min', 'atemp_max', 'atemp_mean', 'atemp_q25',\n",
    "                                      'atemp_q50', 'atemp_q75']\n",
    "print(data_jour_annee_avant_concat.columns.values)"
   ]
  },
  {
   "cell_type": "code",
   "execution_count": 125,
   "metadata": {
    "colab": {
     "base_uri": "https://localhost:8080/"
    },
    "id": "rzHIYDuvwMc9",
    "outputId": "977d05e0-93c0-46a9-cb97-346bac395919"
   },
   "outputs": [
    {
     "name": "stdout",
     "output_type": "stream",
     "text": [
      "<class 'pandas.core.frame.DataFrame'>\n",
      "DatetimeIndex: 731 entries, 2011-01-01 to 2012-12-31\n",
      "Data columns (total 36 columns):\n",
      " #   Column          Non-Null Count  Dtype  \n",
      "---  ------          --------------  -----  \n",
      " 0   hum_min         731 non-null    float64\n",
      " 1   hum_max         731 non-null    float64\n",
      " 2   hum_mean        731 non-null    float64\n",
      " 3   hum_q25         731 non-null    float64\n",
      " 4   hum_q50         731 non-null    float64\n",
      " 5   hum_q75         731 non-null    float64\n",
      " 6   windspeed_min   731 non-null    float64\n",
      " 7   windspeed_max   731 non-null    float64\n",
      " 8   windspeed_mean  731 non-null    float64\n",
      " 9   windspeed_q25   731 non-null    float64\n",
      " 10  windspeed_q50   731 non-null    float64\n",
      " 11  windspeed_q75   731 non-null    float64\n",
      " 12  temp_min        731 non-null    float64\n",
      " 13  temp_max        731 non-null    float64\n",
      " 14  temp_mean       731 non-null    float64\n",
      " 15  temp_q25        731 non-null    float64\n",
      " 16  temp_q50        731 non-null    float64\n",
      " 17  temp_q75        731 non-null    float64\n",
      " 18  atemp_min       731 non-null    float64\n",
      " 19  atemp_max       731 non-null    float64\n",
      " 20  atemp_mean      731 non-null    float64\n",
      " 21  atemp_q25       731 non-null    float64\n",
      " 22  atemp_q50       731 non-null    float64\n",
      " 23  atemp_q75       731 non-null    float64\n",
      " 24  clear           731 non-null    float64\n",
      " 25  cloudy          731 non-null    float64\n",
      " 26  rainy           731 non-null    float64\n",
      " 27  snowy           731 non-null    float64\n",
      " 28  cnt             731 non-null    int64  \n",
      " 29  cnt_j_1         731 non-null    float64\n",
      " 30  cnt_j_2         731 non-null    float64\n",
      " 31  cnt_j_3         731 non-null    float64\n",
      " 32  cnt_j_4         731 non-null    float64\n",
      " 33  cnt_j_5         731 non-null    float64\n",
      " 34  cnt_j_6         731 non-null    float64\n",
      " 35  cnt_j_7         731 non-null    float64\n",
      "dtypes: float64(35), int64(1)\n",
      "memory usage: 211.3 KB\n"
     ]
    }
   ],
   "source": [
    "\n",
    "#le nouveau jeu de données par jour de l'année est nommé 'data_jour_annee'\n",
    "data_jour_annee = pd.concat([data_jour_annee_avant_concat,weathersit_class,cnt_data],axis=1)\n",
    "\n",
    "# informations de data_jour_annee\n",
    "data_jour_annee.info()"
   ]
  },
  {
   "cell_type": "code",
   "execution_count": null,
   "metadata": {},
   "outputs": [],
   "source": []
  },
  {
   "cell_type": "code",
   "execution_count": 126,
   "metadata": {
    "colab": {
     "base_uri": "https://localhost:8080/",
     "height": 338
    },
    "id": "7IyHsQMWuo7E",
    "outputId": "72218089-a331-4081-957d-11ddccaa44fb"
   },
   "outputs": [
    {
     "data": {
      "text/html": [
       "<div>\n",
       "<style scoped>\n",
       "    .dataframe tbody tr th:only-of-type {\n",
       "        vertical-align: middle;\n",
       "    }\n",
       "\n",
       "    .dataframe tbody tr th {\n",
       "        vertical-align: top;\n",
       "    }\n",
       "\n",
       "    .dataframe thead th {\n",
       "        text-align: right;\n",
       "    }\n",
       "</style>\n",
       "<table border=\"1\" class=\"dataframe\">\n",
       "  <thead>\n",
       "    <tr style=\"text-align: right;\">\n",
       "      <th></th>\n",
       "      <th>hum_min</th>\n",
       "      <th>hum_max</th>\n",
       "      <th>hum_mean</th>\n",
       "      <th>hum_q25</th>\n",
       "      <th>hum_q50</th>\n",
       "      <th>hum_q75</th>\n",
       "      <th>windspeed_min</th>\n",
       "      <th>windspeed_max</th>\n",
       "      <th>windspeed_mean</th>\n",
       "      <th>windspeed_q25</th>\n",
       "      <th>...</th>\n",
       "      <th>rainy</th>\n",
       "      <th>snowy</th>\n",
       "      <th>cnt</th>\n",
       "      <th>cnt_j_1</th>\n",
       "      <th>cnt_j_2</th>\n",
       "      <th>cnt_j_3</th>\n",
       "      <th>cnt_j_4</th>\n",
       "      <th>cnt_j_5</th>\n",
       "      <th>cnt_j_6</th>\n",
       "      <th>cnt_j_7</th>\n",
       "    </tr>\n",
       "  </thead>\n",
       "  <tbody>\n",
       "    <tr>\n",
       "      <th>count</th>\n",
       "      <td>731.000000</td>\n",
       "      <td>731.000000</td>\n",
       "      <td>731.000000</td>\n",
       "      <td>731.000000</td>\n",
       "      <td>731.000000</td>\n",
       "      <td>731.000000</td>\n",
       "      <td>731.000000</td>\n",
       "      <td>731.000000</td>\n",
       "      <td>731.000000</td>\n",
       "      <td>731.000000</td>\n",
       "      <td>...</td>\n",
       "      <td>731.000000</td>\n",
       "      <td>731.000000</td>\n",
       "      <td>731.000000</td>\n",
       "      <td>731.000000</td>\n",
       "      <td>731.000000</td>\n",
       "      <td>731.000000</td>\n",
       "      <td>731.000000</td>\n",
       "      <td>731.000000</td>\n",
       "      <td>731.000000</td>\n",
       "      <td>731.000000</td>\n",
       "    </tr>\n",
       "    <tr>\n",
       "      <th>mean</th>\n",
       "      <td>0.436895</td>\n",
       "      <td>0.821601</td>\n",
       "      <td>0.627894</td>\n",
       "      <td>0.524012</td>\n",
       "      <td>0.627531</td>\n",
       "      <td>0.730817</td>\n",
       "      <td>2.405300</td>\n",
       "      <td>24.433910</td>\n",
       "      <td>12.762577</td>\n",
       "      <td>8.392566</td>\n",
       "      <td>...</td>\n",
       "      <td>0.000199</td>\n",
       "      <td>0.083726</td>\n",
       "      <td>4504.348837</td>\n",
       "      <td>4506.837893</td>\n",
       "      <td>4510.604651</td>\n",
       "      <td>4515.001368</td>\n",
       "      <td>4517.004104</td>\n",
       "      <td>4520.374829</td>\n",
       "      <td>4526.047880</td>\n",
       "      <td>4530.932969</td>\n",
       "    </tr>\n",
       "    <tr>\n",
       "      <th>std</th>\n",
       "      <td>0.152413</td>\n",
       "      <td>0.133340</td>\n",
       "      <td>0.142429</td>\n",
       "      <td>0.162715</td>\n",
       "      <td>0.156199</td>\n",
       "      <td>0.148335</td>\n",
       "      <td>4.188314</td>\n",
       "      <td>8.084956</td>\n",
       "      <td>5.192357</td>\n",
       "      <td>5.185614</td>\n",
       "      <td>...</td>\n",
       "      <td>0.003173</td>\n",
       "      <td>0.155603</td>\n",
       "      <td>1937.211452</td>\n",
       "      <td>1936.095828</td>\n",
       "      <td>1933.491325</td>\n",
       "      <td>1929.924825</td>\n",
       "      <td>1929.208699</td>\n",
       "      <td>1927.155692</td>\n",
       "      <td>1921.225071</td>\n",
       "      <td>1916.815011</td>\n",
       "    </tr>\n",
       "    <tr>\n",
       "      <th>min</th>\n",
       "      <td>0.000000</td>\n",
       "      <td>0.000000</td>\n",
       "      <td>0.000000</td>\n",
       "      <td>0.000000</td>\n",
       "      <td>0.000000</td>\n",
       "      <td>0.000000</td>\n",
       "      <td>0.000000</td>\n",
       "      <td>8.998100</td>\n",
       "      <td>1.500242</td>\n",
       "      <td>0.000000</td>\n",
       "      <td>...</td>\n",
       "      <td>0.000000</td>\n",
       "      <td>0.000000</td>\n",
       "      <td>22.000000</td>\n",
       "      <td>22.000000</td>\n",
       "      <td>22.000000</td>\n",
       "      <td>22.000000</td>\n",
       "      <td>22.000000</td>\n",
       "      <td>22.000000</td>\n",
       "      <td>22.000000</td>\n",
       "      <td>22.000000</td>\n",
       "    </tr>\n",
       "    <tr>\n",
       "      <th>25%</th>\n",
       "      <td>0.330000</td>\n",
       "      <td>0.740000</td>\n",
       "      <td>0.520000</td>\n",
       "      <td>0.400000</td>\n",
       "      <td>0.510000</td>\n",
       "      <td>0.623750</td>\n",
       "      <td>0.000000</td>\n",
       "      <td>19.001200</td>\n",
       "      <td>9.041650</td>\n",
       "      <td>6.003200</td>\n",
       "      <td>...</td>\n",
       "      <td>0.000000</td>\n",
       "      <td>0.000000</td>\n",
       "      <td>3152.000000</td>\n",
       "      <td>3176.500000</td>\n",
       "      <td>3192.000000</td>\n",
       "      <td>3199.000000</td>\n",
       "      <td>3209.000000</td>\n",
       "      <td>3214.000000</td>\n",
       "      <td>3221.000000</td>\n",
       "      <td>3233.500000</td>\n",
       "    </tr>\n",
       "    <tr>\n",
       "      <th>50%</th>\n",
       "      <td>0.410000</td>\n",
       "      <td>0.860000</td>\n",
       "      <td>0.626667</td>\n",
       "      <td>0.510000</td>\n",
       "      <td>0.620000</td>\n",
       "      <td>0.750000</td>\n",
       "      <td>0.000000</td>\n",
       "      <td>23.999400</td>\n",
       "      <td>12.125325</td>\n",
       "      <td>7.001500</td>\n",
       "      <td>...</td>\n",
       "      <td>0.000000</td>\n",
       "      <td>0.000000</td>\n",
       "      <td>4548.000000</td>\n",
       "      <td>4548.500000</td>\n",
       "      <td>4549.000000</td>\n",
       "      <td>4551.000000</td>\n",
       "      <td>4553.000000</td>\n",
       "      <td>4558.000000</td>\n",
       "      <td>4563.000000</td>\n",
       "      <td>4566.000000</td>\n",
       "    </tr>\n",
       "    <tr>\n",
       "      <th>75%</th>\n",
       "      <td>0.520000</td>\n",
       "      <td>0.930000</td>\n",
       "      <td>0.730208</td>\n",
       "      <td>0.630000</td>\n",
       "      <td>0.740000</td>\n",
       "      <td>0.840000</td>\n",
       "      <td>6.003200</td>\n",
       "      <td>30.002600</td>\n",
       "      <td>15.625377</td>\n",
       "      <td>11.001400</td>\n",
       "      <td>...</td>\n",
       "      <td>0.000000</td>\n",
       "      <td>0.086957</td>\n",
       "      <td>5956.000000</td>\n",
       "      <td>5956.000000</td>\n",
       "      <td>5956.000000</td>\n",
       "      <td>5956.000000</td>\n",
       "      <td>5956.000000</td>\n",
       "      <td>5956.000000</td>\n",
       "      <td>5956.000000</td>\n",
       "      <td>5956.000000</td>\n",
       "    </tr>\n",
       "    <tr>\n",
       "      <th>max</th>\n",
       "      <td>0.940000</td>\n",
       "      <td>1.000000</td>\n",
       "      <td>0.972500</td>\n",
       "      <td>0.940000</td>\n",
       "      <td>1.000000</td>\n",
       "      <td>1.000000</td>\n",
       "      <td>23.999400</td>\n",
       "      <td>56.996900</td>\n",
       "      <td>33.999988</td>\n",
       "      <td>27.999300</td>\n",
       "      <td>...</td>\n",
       "      <td>0.062500</td>\n",
       "      <td>1.000000</td>\n",
       "      <td>8714.000000</td>\n",
       "      <td>8714.000000</td>\n",
       "      <td>8714.000000</td>\n",
       "      <td>8714.000000</td>\n",
       "      <td>8714.000000</td>\n",
       "      <td>8714.000000</td>\n",
       "      <td>8714.000000</td>\n",
       "      <td>8714.000000</td>\n",
       "    </tr>\n",
       "  </tbody>\n",
       "</table>\n",
       "<p>8 rows × 36 columns</p>\n",
       "</div>"
      ],
      "text/plain": [
       "          hum_min     hum_max    hum_mean     hum_q25     hum_q50     hum_q75  \\\n",
       "count  731.000000  731.000000  731.000000  731.000000  731.000000  731.000000   \n",
       "mean     0.436895    0.821601    0.627894    0.524012    0.627531    0.730817   \n",
       "std      0.152413    0.133340    0.142429    0.162715    0.156199    0.148335   \n",
       "min      0.000000    0.000000    0.000000    0.000000    0.000000    0.000000   \n",
       "25%      0.330000    0.740000    0.520000    0.400000    0.510000    0.623750   \n",
       "50%      0.410000    0.860000    0.626667    0.510000    0.620000    0.750000   \n",
       "75%      0.520000    0.930000    0.730208    0.630000    0.740000    0.840000   \n",
       "max      0.940000    1.000000    0.972500    0.940000    1.000000    1.000000   \n",
       "\n",
       "       windspeed_min  windspeed_max  windspeed_mean  windspeed_q25  ...  \\\n",
       "count     731.000000     731.000000      731.000000     731.000000  ...   \n",
       "mean        2.405300      24.433910       12.762577       8.392566  ...   \n",
       "std         4.188314       8.084956        5.192357       5.185614  ...   \n",
       "min         0.000000       8.998100        1.500242       0.000000  ...   \n",
       "25%         0.000000      19.001200        9.041650       6.003200  ...   \n",
       "50%         0.000000      23.999400       12.125325       7.001500  ...   \n",
       "75%         6.003200      30.002600       15.625377      11.001400  ...   \n",
       "max        23.999400      56.996900       33.999988      27.999300  ...   \n",
       "\n",
       "            rainy       snowy          cnt      cnt_j_1      cnt_j_2  \\\n",
       "count  731.000000  731.000000   731.000000   731.000000   731.000000   \n",
       "mean     0.000199    0.083726  4504.348837  4506.837893  4510.604651   \n",
       "std      0.003173    0.155603  1937.211452  1936.095828  1933.491325   \n",
       "min      0.000000    0.000000    22.000000    22.000000    22.000000   \n",
       "25%      0.000000    0.000000  3152.000000  3176.500000  3192.000000   \n",
       "50%      0.000000    0.000000  4548.000000  4548.500000  4549.000000   \n",
       "75%      0.000000    0.086957  5956.000000  5956.000000  5956.000000   \n",
       "max      0.062500    1.000000  8714.000000  8714.000000  8714.000000   \n",
       "\n",
       "           cnt_j_3      cnt_j_4      cnt_j_5      cnt_j_6      cnt_j_7  \n",
       "count   731.000000   731.000000   731.000000   731.000000   731.000000  \n",
       "mean   4515.001368  4517.004104  4520.374829  4526.047880  4530.932969  \n",
       "std    1929.924825  1929.208699  1927.155692  1921.225071  1916.815011  \n",
       "min      22.000000    22.000000    22.000000    22.000000    22.000000  \n",
       "25%    3199.000000  3209.000000  3214.000000  3221.000000  3233.500000  \n",
       "50%    4551.000000  4553.000000  4558.000000  4563.000000  4566.000000  \n",
       "75%    5956.000000  5956.000000  5956.000000  5956.000000  5956.000000  \n",
       "max    8714.000000  8714.000000  8714.000000  8714.000000  8714.000000  \n",
       "\n",
       "[8 rows x 36 columns]"
      ]
     },
     "execution_count": 126,
     "metadata": {},
     "output_type": "execute_result"
    }
   ],
   "source": [
    "# description des données\n",
    "data_jour_annee.describe()"
   ]
  },
  {
   "cell_type": "code",
   "execution_count": 127,
   "metadata": {
    "colab": {
     "base_uri": "https://localhost:8080/",
     "height": 493
    },
    "id": "rngCWr82hzT4",
    "outputId": "f52d2685-f16f-4cd0-9b08-98698f4aa224"
   },
   "outputs": [
    {
     "data": {
      "text/html": [
       "<div>\n",
       "<style scoped>\n",
       "    .dataframe tbody tr th:only-of-type {\n",
       "        vertical-align: middle;\n",
       "    }\n",
       "\n",
       "    .dataframe tbody tr th {\n",
       "        vertical-align: top;\n",
       "    }\n",
       "\n",
       "    .dataframe thead th {\n",
       "        text-align: right;\n",
       "    }\n",
       "</style>\n",
       "<table border=\"1\" class=\"dataframe\">\n",
       "  <thead>\n",
       "    <tr style=\"text-align: right;\">\n",
       "      <th></th>\n",
       "      <th>hum_min</th>\n",
       "      <th>hum_max</th>\n",
       "      <th>hum_mean</th>\n",
       "      <th>hum_q25</th>\n",
       "      <th>hum_q50</th>\n",
       "      <th>hum_q75</th>\n",
       "      <th>windspeed_min</th>\n",
       "      <th>windspeed_max</th>\n",
       "      <th>windspeed_mean</th>\n",
       "      <th>windspeed_q25</th>\n",
       "      <th>...</th>\n",
       "      <th>rainy</th>\n",
       "      <th>snowy</th>\n",
       "      <th>cnt</th>\n",
       "      <th>cnt_j_1</th>\n",
       "      <th>cnt_j_2</th>\n",
       "      <th>cnt_j_3</th>\n",
       "      <th>cnt_j_4</th>\n",
       "      <th>cnt_j_5</th>\n",
       "      <th>cnt_j_6</th>\n",
       "      <th>cnt_j_7</th>\n",
       "    </tr>\n",
       "    <tr>\n",
       "      <th>dteday</th>\n",
       "      <th></th>\n",
       "      <th></th>\n",
       "      <th></th>\n",
       "      <th></th>\n",
       "      <th></th>\n",
       "      <th></th>\n",
       "      <th></th>\n",
       "      <th></th>\n",
       "      <th></th>\n",
       "      <th></th>\n",
       "      <th></th>\n",
       "      <th></th>\n",
       "      <th></th>\n",
       "      <th></th>\n",
       "      <th></th>\n",
       "      <th></th>\n",
       "      <th></th>\n",
       "      <th></th>\n",
       "      <th></th>\n",
       "      <th></th>\n",
       "      <th></th>\n",
       "    </tr>\n",
       "  </thead>\n",
       "  <tbody>\n",
       "    <tr>\n",
       "      <th>2011-01-01</th>\n",
       "      <td>0.72</td>\n",
       "      <td>0.94</td>\n",
       "      <td>0.805833</td>\n",
       "      <td>0.7575</td>\n",
       "      <td>0.800</td>\n",
       "      <td>0.8625</td>\n",
       "      <td>0.0000</td>\n",
       "      <td>19.9995</td>\n",
       "      <td>10.749871</td>\n",
       "      <td>0.000000</td>\n",
       "      <td>...</td>\n",
       "      <td>0.0</td>\n",
       "      <td>0.083333</td>\n",
       "      <td>985</td>\n",
       "      <td>4548.5</td>\n",
       "      <td>4549.0</td>\n",
       "      <td>4551.0</td>\n",
       "      <td>4553.0</td>\n",
       "      <td>4558.0</td>\n",
       "      <td>4563.0</td>\n",
       "      <td>4566.0</td>\n",
       "    </tr>\n",
       "    <tr>\n",
       "      <th>2011-01-02</th>\n",
       "      <td>0.39</td>\n",
       "      <td>1.00</td>\n",
       "      <td>0.696087</td>\n",
       "      <td>0.5200</td>\n",
       "      <td>0.710</td>\n",
       "      <td>0.8100</td>\n",
       "      <td>8.9981</td>\n",
       "      <td>30.0026</td>\n",
       "      <td>16.652122</td>\n",
       "      <td>12.998000</td>\n",
       "      <td>...</td>\n",
       "      <td>0.0</td>\n",
       "      <td>0.217391</td>\n",
       "      <td>801</td>\n",
       "      <td>985.0</td>\n",
       "      <td>4549.0</td>\n",
       "      <td>4551.0</td>\n",
       "      <td>4553.0</td>\n",
       "      <td>4558.0</td>\n",
       "      <td>4563.0</td>\n",
       "      <td>4566.0</td>\n",
       "    </tr>\n",
       "    <tr>\n",
       "      <th>2011-01-03</th>\n",
       "      <td>0.30</td>\n",
       "      <td>0.69</td>\n",
       "      <td>0.437273</td>\n",
       "      <td>0.3500</td>\n",
       "      <td>0.440</td>\n",
       "      <td>0.4925</td>\n",
       "      <td>0.0000</td>\n",
       "      <td>27.9993</td>\n",
       "      <td>16.636709</td>\n",
       "      <td>9.998075</td>\n",
       "      <td>...</td>\n",
       "      <td>0.0</td>\n",
       "      <td>0.000000</td>\n",
       "      <td>1349</td>\n",
       "      <td>801.0</td>\n",
       "      <td>985.0</td>\n",
       "      <td>4551.0</td>\n",
       "      <td>4553.0</td>\n",
       "      <td>4558.0</td>\n",
       "      <td>4563.0</td>\n",
       "      <td>4566.0</td>\n",
       "    </tr>\n",
       "    <tr>\n",
       "      <th>2011-01-04</th>\n",
       "      <td>0.48</td>\n",
       "      <td>0.74</td>\n",
       "      <td>0.590435</td>\n",
       "      <td>0.5100</td>\n",
       "      <td>0.590</td>\n",
       "      <td>0.6600</td>\n",
       "      <td>0.0000</td>\n",
       "      <td>22.0028</td>\n",
       "      <td>10.739809</td>\n",
       "      <td>7.001500</td>\n",
       "      <td>...</td>\n",
       "      <td>0.0</td>\n",
       "      <td>0.000000</td>\n",
       "      <td>1562</td>\n",
       "      <td>1349.0</td>\n",
       "      <td>801.0</td>\n",
       "      <td>985.0</td>\n",
       "      <td>4553.0</td>\n",
       "      <td>4558.0</td>\n",
       "      <td>4563.0</td>\n",
       "      <td>4566.0</td>\n",
       "    </tr>\n",
       "    <tr>\n",
       "      <th>2011-01-05</th>\n",
       "      <td>0.28</td>\n",
       "      <td>0.74</td>\n",
       "      <td>0.436957</td>\n",
       "      <td>0.3500</td>\n",
       "      <td>0.400</td>\n",
       "      <td>0.4750</td>\n",
       "      <td>0.0000</td>\n",
       "      <td>22.0028</td>\n",
       "      <td>12.522300</td>\n",
       "      <td>7.999800</td>\n",
       "      <td>...</td>\n",
       "      <td>0.0</td>\n",
       "      <td>0.000000</td>\n",
       "      <td>1600</td>\n",
       "      <td>1562.0</td>\n",
       "      <td>1349.0</td>\n",
       "      <td>801.0</td>\n",
       "      <td>985.0</td>\n",
       "      <td>4558.0</td>\n",
       "      <td>4563.0</td>\n",
       "      <td>4566.0</td>\n",
       "    </tr>\n",
       "    <tr>\n",
       "      <th>...</th>\n",
       "      <td>...</td>\n",
       "      <td>...</td>\n",
       "      <td>...</td>\n",
       "      <td>...</td>\n",
       "      <td>...</td>\n",
       "      <td>...</td>\n",
       "      <td>...</td>\n",
       "      <td>...</td>\n",
       "      <td>...</td>\n",
       "      <td>...</td>\n",
       "      <td>...</td>\n",
       "      <td>...</td>\n",
       "      <td>...</td>\n",
       "      <td>...</td>\n",
       "      <td>...</td>\n",
       "      <td>...</td>\n",
       "      <td>...</td>\n",
       "      <td>...</td>\n",
       "      <td>...</td>\n",
       "      <td>...</td>\n",
       "      <td>...</td>\n",
       "    </tr>\n",
       "    <tr>\n",
       "      <th>2012-12-27</th>\n",
       "      <td>0.49</td>\n",
       "      <td>0.93</td>\n",
       "      <td>0.652917</td>\n",
       "      <td>0.5600</td>\n",
       "      <td>0.600</td>\n",
       "      <td>0.7125</td>\n",
       "      <td>11.0014</td>\n",
       "      <td>35.0008</td>\n",
       "      <td>23.458933</td>\n",
       "      <td>16.997900</td>\n",
       "      <td>...</td>\n",
       "      <td>0.0</td>\n",
       "      <td>0.083333</td>\n",
       "      <td>2114</td>\n",
       "      <td>441.0</td>\n",
       "      <td>1013.0</td>\n",
       "      <td>920.0</td>\n",
       "      <td>1787.0</td>\n",
       "      <td>1749.0</td>\n",
       "      <td>3623.0</td>\n",
       "      <td>4128.0</td>\n",
       "    </tr>\n",
       "    <tr>\n",
       "      <th>2012-12-28</th>\n",
       "      <td>0.49</td>\n",
       "      <td>0.70</td>\n",
       "      <td>0.590000</td>\n",
       "      <td>0.5500</td>\n",
       "      <td>0.600</td>\n",
       "      <td>0.6400</td>\n",
       "      <td>0.0000</td>\n",
       "      <td>19.0012</td>\n",
       "      <td>10.416546</td>\n",
       "      <td>8.498950</td>\n",
       "      <td>...</td>\n",
       "      <td>0.0</td>\n",
       "      <td>0.000000</td>\n",
       "      <td>3095</td>\n",
       "      <td>2114.0</td>\n",
       "      <td>441.0</td>\n",
       "      <td>1013.0</td>\n",
       "      <td>920.0</td>\n",
       "      <td>1787.0</td>\n",
       "      <td>1749.0</td>\n",
       "      <td>3623.0</td>\n",
       "    </tr>\n",
       "    <tr>\n",
       "      <th>2012-12-29</th>\n",
       "      <td>0.56</td>\n",
       "      <td>1.00</td>\n",
       "      <td>0.752917</td>\n",
       "      <td>0.7000</td>\n",
       "      <td>0.750</td>\n",
       "      <td>0.8100</td>\n",
       "      <td>0.0000</td>\n",
       "      <td>36.9974</td>\n",
       "      <td>8.333683</td>\n",
       "      <td>0.000000</td>\n",
       "      <td>...</td>\n",
       "      <td>0.0</td>\n",
       "      <td>0.166667</td>\n",
       "      <td>1341</td>\n",
       "      <td>3095.0</td>\n",
       "      <td>2114.0</td>\n",
       "      <td>441.0</td>\n",
       "      <td>1013.0</td>\n",
       "      <td>920.0</td>\n",
       "      <td>1787.0</td>\n",
       "      <td>1749.0</td>\n",
       "    </tr>\n",
       "    <tr>\n",
       "      <th>2012-12-30</th>\n",
       "      <td>0.36</td>\n",
       "      <td>0.61</td>\n",
       "      <td>0.483333</td>\n",
       "      <td>0.4100</td>\n",
       "      <td>0.510</td>\n",
       "      <td>0.5600</td>\n",
       "      <td>0.0000</td>\n",
       "      <td>43.9989</td>\n",
       "      <td>23.500529</td>\n",
       "      <td>18.001225</td>\n",
       "      <td>...</td>\n",
       "      <td>0.0</td>\n",
       "      <td>0.000000</td>\n",
       "      <td>1796</td>\n",
       "      <td>1341.0</td>\n",
       "      <td>3095.0</td>\n",
       "      <td>2114.0</td>\n",
       "      <td>441.0</td>\n",
       "      <td>1013.0</td>\n",
       "      <td>920.0</td>\n",
       "      <td>1787.0</td>\n",
       "    </tr>\n",
       "    <tr>\n",
       "      <th>2012-12-31</th>\n",
       "      <td>0.44</td>\n",
       "      <td>0.69</td>\n",
       "      <td>0.577500</td>\n",
       "      <td>0.5325</td>\n",
       "      <td>0.595</td>\n",
       "      <td>0.6400</td>\n",
       "      <td>6.0032</td>\n",
       "      <td>15.0013</td>\n",
       "      <td>10.374671</td>\n",
       "      <td>8.998100</td>\n",
       "      <td>...</td>\n",
       "      <td>0.0</td>\n",
       "      <td>0.000000</td>\n",
       "      <td>2729</td>\n",
       "      <td>1796.0</td>\n",
       "      <td>1341.0</td>\n",
       "      <td>3095.0</td>\n",
       "      <td>2114.0</td>\n",
       "      <td>441.0</td>\n",
       "      <td>1013.0</td>\n",
       "      <td>920.0</td>\n",
       "    </tr>\n",
       "  </tbody>\n",
       "</table>\n",
       "<p>731 rows × 36 columns</p>\n",
       "</div>"
      ],
      "text/plain": [
       "            hum_min  hum_max  hum_mean  hum_q25  hum_q50  hum_q75  \\\n",
       "dteday                                                              \n",
       "2011-01-01     0.72     0.94  0.805833   0.7575    0.800   0.8625   \n",
       "2011-01-02     0.39     1.00  0.696087   0.5200    0.710   0.8100   \n",
       "2011-01-03     0.30     0.69  0.437273   0.3500    0.440   0.4925   \n",
       "2011-01-04     0.48     0.74  0.590435   0.5100    0.590   0.6600   \n",
       "2011-01-05     0.28     0.74  0.436957   0.3500    0.400   0.4750   \n",
       "...             ...      ...       ...      ...      ...      ...   \n",
       "2012-12-27     0.49     0.93  0.652917   0.5600    0.600   0.7125   \n",
       "2012-12-28     0.49     0.70  0.590000   0.5500    0.600   0.6400   \n",
       "2012-12-29     0.56     1.00  0.752917   0.7000    0.750   0.8100   \n",
       "2012-12-30     0.36     0.61  0.483333   0.4100    0.510   0.5600   \n",
       "2012-12-31     0.44     0.69  0.577500   0.5325    0.595   0.6400   \n",
       "\n",
       "            windspeed_min  windspeed_max  windspeed_mean  windspeed_q25  ...  \\\n",
       "dteday                                                                   ...   \n",
       "2011-01-01         0.0000        19.9995       10.749871       0.000000  ...   \n",
       "2011-01-02         8.9981        30.0026       16.652122      12.998000  ...   \n",
       "2011-01-03         0.0000        27.9993       16.636709       9.998075  ...   \n",
       "2011-01-04         0.0000        22.0028       10.739809       7.001500  ...   \n",
       "2011-01-05         0.0000        22.0028       12.522300       7.999800  ...   \n",
       "...                   ...            ...             ...            ...  ...   \n",
       "2012-12-27        11.0014        35.0008       23.458933      16.997900  ...   \n",
       "2012-12-28         0.0000        19.0012       10.416546       8.498950  ...   \n",
       "2012-12-29         0.0000        36.9974        8.333683       0.000000  ...   \n",
       "2012-12-30         0.0000        43.9989       23.500529      18.001225  ...   \n",
       "2012-12-31         6.0032        15.0013       10.374671       8.998100  ...   \n",
       "\n",
       "            rainy     snowy   cnt  cnt_j_1  cnt_j_2  cnt_j_3  cnt_j_4  \\\n",
       "dteday                                                                  \n",
       "2011-01-01    0.0  0.083333   985   4548.5   4549.0   4551.0   4553.0   \n",
       "2011-01-02    0.0  0.217391   801    985.0   4549.0   4551.0   4553.0   \n",
       "2011-01-03    0.0  0.000000  1349    801.0    985.0   4551.0   4553.0   \n",
       "2011-01-04    0.0  0.000000  1562   1349.0    801.0    985.0   4553.0   \n",
       "2011-01-05    0.0  0.000000  1600   1562.0   1349.0    801.0    985.0   \n",
       "...           ...       ...   ...      ...      ...      ...      ...   \n",
       "2012-12-27    0.0  0.083333  2114    441.0   1013.0    920.0   1787.0   \n",
       "2012-12-28    0.0  0.000000  3095   2114.0    441.0   1013.0    920.0   \n",
       "2012-12-29    0.0  0.166667  1341   3095.0   2114.0    441.0   1013.0   \n",
       "2012-12-30    0.0  0.000000  1796   1341.0   3095.0   2114.0    441.0   \n",
       "2012-12-31    0.0  0.000000  2729   1796.0   1341.0   3095.0   2114.0   \n",
       "\n",
       "            cnt_j_5  cnt_j_6  cnt_j_7  \n",
       "dteday                                 \n",
       "2011-01-01   4558.0   4563.0   4566.0  \n",
       "2011-01-02   4558.0   4563.0   4566.0  \n",
       "2011-01-03   4558.0   4563.0   4566.0  \n",
       "2011-01-04   4558.0   4563.0   4566.0  \n",
       "2011-01-05   4558.0   4563.0   4566.0  \n",
       "...             ...      ...      ...  \n",
       "2012-12-27   1749.0   3623.0   4128.0  \n",
       "2012-12-28   1787.0   1749.0   3623.0  \n",
       "2012-12-29    920.0   1787.0   1749.0  \n",
       "2012-12-30   1013.0    920.0   1787.0  \n",
       "2012-12-31    441.0   1013.0    920.0  \n",
       "\n",
       "[731 rows x 36 columns]"
      ]
     },
     "execution_count": 127,
     "metadata": {},
     "output_type": "execute_result"
    }
   ],
   "source": [
    "# Apercu des données data_jour_annee\n",
    "data_jour_annee"
   ]
  },
  {
   "cell_type": "markdown",
   "metadata": {
    "id": "o17FlBzWeTyU"
   },
   "source": [
    "**A-Analyse des liaisons entre les variables**"
   ]
  },
  {
   "cell_type": "markdown",
   "metadata": {
    "id": "vf_nBZBJ5d-j"
   },
   "source": [
    "Nous allons maintenant étudier la liaison entre le nombre de vélo sur les 7 derniers jours et le nombre de vélo du jour J  a l'aide de la matrice de corrélation. On constate une corrélation  importante entre  cnt et cnt_j_1 , cnt_j_2 , cnt_j_3 ,cnt_j_4 , cnt_j_5 , cnt_j_6 et cnt_j_7."
   ]
  },
  {
   "cell_type": "code",
   "execution_count": 128,
   "metadata": {
    "colab": {
     "base_uri": "https://localhost:8080/",
     "height": 455
    },
    "id": "xBt4e8qem6gi",
    "outputId": "a2a9f3a1-d6d3-4673-eb24-1e033cac10e9"
   },
   "outputs": [
    {
     "data": {
      "text/html": [
       "<div>\n",
       "<style scoped>\n",
       "    .dataframe tbody tr th:only-of-type {\n",
       "        vertical-align: middle;\n",
       "    }\n",
       "\n",
       "    .dataframe tbody tr th {\n",
       "        vertical-align: top;\n",
       "    }\n",
       "\n",
       "    .dataframe thead th {\n",
       "        text-align: right;\n",
       "    }\n",
       "</style>\n",
       "<table border=\"1\" class=\"dataframe\">\n",
       "  <thead>\n",
       "    <tr style=\"text-align: right;\">\n",
       "      <th></th>\n",
       "      <th>cnt</th>\n",
       "      <th>cnt_j_1</th>\n",
       "      <th>cnt_j_2</th>\n",
       "      <th>cnt_j_3</th>\n",
       "      <th>cnt_j_4</th>\n",
       "      <th>cnt_j_5</th>\n",
       "      <th>cnt_j_6</th>\n",
       "      <th>cnt_j_7</th>\n",
       "    </tr>\n",
       "    <tr>\n",
       "      <th>dteday</th>\n",
       "      <th></th>\n",
       "      <th></th>\n",
       "      <th></th>\n",
       "      <th></th>\n",
       "      <th></th>\n",
       "      <th></th>\n",
       "      <th></th>\n",
       "      <th></th>\n",
       "    </tr>\n",
       "  </thead>\n",
       "  <tbody>\n",
       "    <tr>\n",
       "      <th>2011-01-01</th>\n",
       "      <td>985</td>\n",
       "      <td>4548.5</td>\n",
       "      <td>4549.0</td>\n",
       "      <td>4551.0</td>\n",
       "      <td>4553.0</td>\n",
       "      <td>4558.0</td>\n",
       "      <td>4563.0</td>\n",
       "      <td>4566.0</td>\n",
       "    </tr>\n",
       "    <tr>\n",
       "      <th>2011-01-02</th>\n",
       "      <td>801</td>\n",
       "      <td>985.0</td>\n",
       "      <td>4549.0</td>\n",
       "      <td>4551.0</td>\n",
       "      <td>4553.0</td>\n",
       "      <td>4558.0</td>\n",
       "      <td>4563.0</td>\n",
       "      <td>4566.0</td>\n",
       "    </tr>\n",
       "    <tr>\n",
       "      <th>2011-01-03</th>\n",
       "      <td>1349</td>\n",
       "      <td>801.0</td>\n",
       "      <td>985.0</td>\n",
       "      <td>4551.0</td>\n",
       "      <td>4553.0</td>\n",
       "      <td>4558.0</td>\n",
       "      <td>4563.0</td>\n",
       "      <td>4566.0</td>\n",
       "    </tr>\n",
       "    <tr>\n",
       "      <th>2011-01-04</th>\n",
       "      <td>1562</td>\n",
       "      <td>1349.0</td>\n",
       "      <td>801.0</td>\n",
       "      <td>985.0</td>\n",
       "      <td>4553.0</td>\n",
       "      <td>4558.0</td>\n",
       "      <td>4563.0</td>\n",
       "      <td>4566.0</td>\n",
       "    </tr>\n",
       "    <tr>\n",
       "      <th>2011-01-05</th>\n",
       "      <td>1600</td>\n",
       "      <td>1562.0</td>\n",
       "      <td>1349.0</td>\n",
       "      <td>801.0</td>\n",
       "      <td>985.0</td>\n",
       "      <td>4558.0</td>\n",
       "      <td>4563.0</td>\n",
       "      <td>4566.0</td>\n",
       "    </tr>\n",
       "    <tr>\n",
       "      <th>...</th>\n",
       "      <td>...</td>\n",
       "      <td>...</td>\n",
       "      <td>...</td>\n",
       "      <td>...</td>\n",
       "      <td>...</td>\n",
       "      <td>...</td>\n",
       "      <td>...</td>\n",
       "      <td>...</td>\n",
       "    </tr>\n",
       "    <tr>\n",
       "      <th>2012-12-27</th>\n",
       "      <td>2114</td>\n",
       "      <td>441.0</td>\n",
       "      <td>1013.0</td>\n",
       "      <td>920.0</td>\n",
       "      <td>1787.0</td>\n",
       "      <td>1749.0</td>\n",
       "      <td>3623.0</td>\n",
       "      <td>4128.0</td>\n",
       "    </tr>\n",
       "    <tr>\n",
       "      <th>2012-12-28</th>\n",
       "      <td>3095</td>\n",
       "      <td>2114.0</td>\n",
       "      <td>441.0</td>\n",
       "      <td>1013.0</td>\n",
       "      <td>920.0</td>\n",
       "      <td>1787.0</td>\n",
       "      <td>1749.0</td>\n",
       "      <td>3623.0</td>\n",
       "    </tr>\n",
       "    <tr>\n",
       "      <th>2012-12-29</th>\n",
       "      <td>1341</td>\n",
       "      <td>3095.0</td>\n",
       "      <td>2114.0</td>\n",
       "      <td>441.0</td>\n",
       "      <td>1013.0</td>\n",
       "      <td>920.0</td>\n",
       "      <td>1787.0</td>\n",
       "      <td>1749.0</td>\n",
       "    </tr>\n",
       "    <tr>\n",
       "      <th>2012-12-30</th>\n",
       "      <td>1796</td>\n",
       "      <td>1341.0</td>\n",
       "      <td>3095.0</td>\n",
       "      <td>2114.0</td>\n",
       "      <td>441.0</td>\n",
       "      <td>1013.0</td>\n",
       "      <td>920.0</td>\n",
       "      <td>1787.0</td>\n",
       "    </tr>\n",
       "    <tr>\n",
       "      <th>2012-12-31</th>\n",
       "      <td>2729</td>\n",
       "      <td>1796.0</td>\n",
       "      <td>1341.0</td>\n",
       "      <td>3095.0</td>\n",
       "      <td>2114.0</td>\n",
       "      <td>441.0</td>\n",
       "      <td>1013.0</td>\n",
       "      <td>920.0</td>\n",
       "    </tr>\n",
       "  </tbody>\n",
       "</table>\n",
       "<p>731 rows × 8 columns</p>\n",
       "</div>"
      ],
      "text/plain": [
       "             cnt  cnt_j_1  cnt_j_2  cnt_j_3  cnt_j_4  cnt_j_5  cnt_j_6  \\\n",
       "dteday                                                                   \n",
       "2011-01-01   985   4548.5   4549.0   4551.0   4553.0   4558.0   4563.0   \n",
       "2011-01-02   801    985.0   4549.0   4551.0   4553.0   4558.0   4563.0   \n",
       "2011-01-03  1349    801.0    985.0   4551.0   4553.0   4558.0   4563.0   \n",
       "2011-01-04  1562   1349.0    801.0    985.0   4553.0   4558.0   4563.0   \n",
       "2011-01-05  1600   1562.0   1349.0    801.0    985.0   4558.0   4563.0   \n",
       "...          ...      ...      ...      ...      ...      ...      ...   \n",
       "2012-12-27  2114    441.0   1013.0    920.0   1787.0   1749.0   3623.0   \n",
       "2012-12-28  3095   2114.0    441.0   1013.0    920.0   1787.0   1749.0   \n",
       "2012-12-29  1341   3095.0   2114.0    441.0   1013.0    920.0   1787.0   \n",
       "2012-12-30  1796   1341.0   3095.0   2114.0    441.0   1013.0    920.0   \n",
       "2012-12-31  2729   1796.0   1341.0   3095.0   2114.0    441.0   1013.0   \n",
       "\n",
       "            cnt_j_7  \n",
       "dteday               \n",
       "2011-01-01   4566.0  \n",
       "2011-01-02   4566.0  \n",
       "2011-01-03   4566.0  \n",
       "2011-01-04   4566.0  \n",
       "2011-01-05   4566.0  \n",
       "...             ...  \n",
       "2012-12-27   4128.0  \n",
       "2012-12-28   3623.0  \n",
       "2012-12-29   1749.0  \n",
       "2012-12-30   1787.0  \n",
       "2012-12-31    920.0  \n",
       "\n",
       "[731 rows x 8 columns]"
      ]
     },
     "execution_count": 128,
     "metadata": {},
     "output_type": "execute_result"
    }
   ],
   "source": [
    "# jeu de données qui contient  que le décompte de vélo du jour J et 7 derniers jours pendant 24 heures\n",
    "cnt_data"
   ]
  },
  {
   "cell_type": "code",
   "execution_count": 129,
   "metadata": {
    "colab": {
     "base_uri": "https://localhost:8080/",
     "height": 211
    },
    "id": "eci58lrc6uhi",
    "outputId": "ec8fde3c-caba-45a7-f89c-0062a1d12004"
   },
   "outputs": [
    {
     "data": {
      "text/html": [
       "<style  type=\"text/css\" >\n",
       "#T_f20ab_row0_col0,#T_f20ab_row1_col1,#T_f20ab_row2_col2,#T_f20ab_row3_col3,#T_f20ab_row4_col4,#T_f20ab_row5_col5,#T_f20ab_row6_col6,#T_f20ab_row7_col7{\n",
       "            background-color:  #5e4fa2;\n",
       "            color:  #f1f1f1;\n",
       "        }#T_f20ab_row0_col1,#T_f20ab_row1_col0,#T_f20ab_row1_col2,#T_f20ab_row2_col1,#T_f20ab_row3_col2,#T_f20ab_row4_col5,#T_f20ab_row5_col6,#T_f20ab_row6_col5,#T_f20ab_row6_col7{\n",
       "            background-color:  #fee491;\n",
       "            color:  #000000;\n",
       "        }#T_f20ab_row0_col2,#T_f20ab_row4_col2,#T_f20ab_row4_col6,#T_f20ab_row5_col3,#T_f20ab_row5_col7{\n",
       "            background-color:  #e85b48;\n",
       "            color:  #000000;\n",
       "        }#T_f20ab_row0_col3{\n",
       "            background-color:  #b61b48;\n",
       "            color:  #f1f1f1;\n",
       "        }#T_f20ab_row0_col4,#T_f20ab_row1_col5,#T_f20ab_row2_col6,#T_f20ab_row3_col7,#T_f20ab_row4_col0,#T_f20ab_row5_col1,#T_f20ab_row6_col2,#T_f20ab_row7_col3{\n",
       "            background-color:  #9e0142;\n",
       "            color:  #f1f1f1;\n",
       "        }#T_f20ab_row0_col5,#T_f20ab_row5_col0,#T_f20ab_row6_col1,#T_f20ab_row7_col0,#T_f20ab_row7_col2{\n",
       "            background-color:  #ab0f45;\n",
       "            color:  #f1f1f1;\n",
       "        }#T_f20ab_row0_col6{\n",
       "            background-color:  #cb334d;\n",
       "            color:  #f1f1f1;\n",
       "        }#T_f20ab_row0_col7,#T_f20ab_row4_col1,#T_f20ab_row4_col7,#T_f20ab_row5_col2,#T_f20ab_row6_col3{\n",
       "            background-color:  #b11747;\n",
       "            color:  #f1f1f1;\n",
       "        }#T_f20ab_row1_col3{\n",
       "            background-color:  #e95c47;\n",
       "            color:  #000000;\n",
       "        }#T_f20ab_row1_col4,#T_f20ab_row2_col5,#T_f20ab_row3_col0,#T_f20ab_row3_col6{\n",
       "            background-color:  #af1446;\n",
       "            color:  #f1f1f1;\n",
       "        }#T_f20ab_row1_col6,#T_f20ab_row2_col7,#T_f20ab_row7_col4{\n",
       "            background-color:  #ad1246;\n",
       "            color:  #f1f1f1;\n",
       "        }#T_f20ab_row1_col7{\n",
       "            background-color:  #cd364d;\n",
       "            color:  #f1f1f1;\n",
       "        }#T_f20ab_row2_col0,#T_f20ab_row2_col4,#T_f20ab_row3_col1,#T_f20ab_row3_col5,#T_f20ab_row6_col4,#T_f20ab_row7_col5{\n",
       "            background-color:  #e75948;\n",
       "            color:  #000000;\n",
       "        }#T_f20ab_row2_col3,#T_f20ab_row4_col3{\n",
       "            background-color:  #fee593;\n",
       "            color:  #000000;\n",
       "        }#T_f20ab_row3_col4,#T_f20ab_row5_col4,#T_f20ab_row7_col6{\n",
       "            background-color:  #fee28f;\n",
       "            color:  #000000;\n",
       "        }#T_f20ab_row6_col0,#T_f20ab_row7_col1{\n",
       "            background-color:  #c9314c;\n",
       "            color:  #f1f1f1;\n",
       "        }</style><table id=\"T_f20ab_\" ><thead>    <tr>        <th class=\"blank level0\" ></th>        <th class=\"col_heading level0 col0\" >cnt</th>        <th class=\"col_heading level0 col1\" >cnt_j_1</th>        <th class=\"col_heading level0 col2\" >cnt_j_2</th>        <th class=\"col_heading level0 col3\" >cnt_j_3</th>        <th class=\"col_heading level0 col4\" >cnt_j_4</th>        <th class=\"col_heading level0 col5\" >cnt_j_5</th>        <th class=\"col_heading level0 col6\" >cnt_j_6</th>        <th class=\"col_heading level0 col7\" >cnt_j_7</th>    </tr></thead><tbody>\n",
       "                <tr>\n",
       "                        <th id=\"T_f20ab_level0_row0\" class=\"row_heading level0 row0\" >cnt</th>\n",
       "                        <td id=\"T_f20ab_row0_col0\" class=\"data row0 col0\" >1.000000</td>\n",
       "                        <td id=\"T_f20ab_row0_col1\" class=\"data row0 col1\" >0.846611</td>\n",
       "                        <td id=\"T_f20ab_row0_col2\" class=\"data row0 col2\" >0.780764</td>\n",
       "                        <td id=\"T_f20ab_row0_col3\" class=\"data row0 col3\" >0.748407</td>\n",
       "                        <td id=\"T_f20ab_row0_col4\" class=\"data row0 col4\" >0.739327</td>\n",
       "                        <td id=\"T_f20ab_row0_col5\" class=\"data row0 col5\" >0.745539</td>\n",
       "                        <td id=\"T_f20ab_row0_col6\" class=\"data row0 col6\" >0.760455</td>\n",
       "                        <td id=\"T_f20ab_row0_col7\" class=\"data row0 col7\" >0.746447</td>\n",
       "            </tr>\n",
       "            <tr>\n",
       "                        <th id=\"T_f20ab_level0_row1\" class=\"row_heading level0 row1\" >cnt_j_1</th>\n",
       "                        <td id=\"T_f20ab_row1_col0\" class=\"data row1 col0\" >0.846611</td>\n",
       "                        <td id=\"T_f20ab_row1_col1\" class=\"data row1 col1\" >1.000000</td>\n",
       "                        <td id=\"T_f20ab_row1_col2\" class=\"data row1 col2\" >0.846477</td>\n",
       "                        <td id=\"T_f20ab_row1_col3\" class=\"data row1 col3\" >0.780587</td>\n",
       "                        <td id=\"T_f20ab_row1_col4\" class=\"data row1 col4\" >0.748183</td>\n",
       "                        <td id=\"T_f20ab_row1_col5\" class=\"data row1 col5\" >0.738949</td>\n",
       "                        <td id=\"T_f20ab_row1_col6\" class=\"data row1 col6\" >0.745571</td>\n",
       "                        <td id=\"T_f20ab_row1_col7\" class=\"data row1 col7\" >0.760318</td>\n",
       "            </tr>\n",
       "            <tr>\n",
       "                        <th id=\"T_f20ab_level0_row2\" class=\"row_heading level0 row2\" >cnt_j_2</th>\n",
       "                        <td id=\"T_f20ab_row2_col0\" class=\"data row2 col0\" >0.780764</td>\n",
       "                        <td id=\"T_f20ab_row2_col1\" class=\"data row2 col1\" >0.846477</td>\n",
       "                        <td id=\"T_f20ab_row2_col2\" class=\"data row2 col2\" >1.000000</td>\n",
       "                        <td id=\"T_f20ab_row2_col3\" class=\"data row2 col3\" >0.846023</td>\n",
       "                        <td id=\"T_f20ab_row2_col4\" class=\"data row2 col4\" >0.780508</td>\n",
       "                        <td id=\"T_f20ab_row2_col5\" class=\"data row2 col5\" >0.747572</td>\n",
       "                        <td id=\"T_f20ab_row2_col6\" class=\"data row2 col6\" >0.738121</td>\n",
       "                        <td id=\"T_f20ab_row2_col7\" class=\"data row2 col7\" >0.744751</td>\n",
       "            </tr>\n",
       "            <tr>\n",
       "                        <th id=\"T_f20ab_level0_row3\" class=\"row_heading level0 row3\" >cnt_j_3</th>\n",
       "                        <td id=\"T_f20ab_row3_col0\" class=\"data row3 col0\" >0.748407</td>\n",
       "                        <td id=\"T_f20ab_row3_col1\" class=\"data row3 col1\" >0.780587</td>\n",
       "                        <td id=\"T_f20ab_row3_col2\" class=\"data row3 col2\" >0.846023</td>\n",
       "                        <td id=\"T_f20ab_row3_col3\" class=\"data row3 col3\" >1.000000</td>\n",
       "                        <td id=\"T_f20ab_row3_col4\" class=\"data row3 col4\" >0.846240</td>\n",
       "                        <td id=\"T_f20ab_row3_col5\" class=\"data row3 col5\" >0.779961</td>\n",
       "                        <td id=\"T_f20ab_row3_col6\" class=\"data row3 col6\" >0.746464</td>\n",
       "                        <td id=\"T_f20ab_row3_col7\" class=\"data row3 col7\" >0.737043</td>\n",
       "            </tr>\n",
       "            <tr>\n",
       "                        <th id=\"T_f20ab_level0_row4\" class=\"row_heading level0 row4\" >cnt_j_4</th>\n",
       "                        <td id=\"T_f20ab_row4_col0\" class=\"data row4 col0\" >0.739327</td>\n",
       "                        <td id=\"T_f20ab_row4_col1\" class=\"data row4 col1\" >0.748183</td>\n",
       "                        <td id=\"T_f20ab_row4_col2\" class=\"data row4 col2\" >0.780508</td>\n",
       "                        <td id=\"T_f20ab_row4_col3\" class=\"data row4 col3\" >0.846240</td>\n",
       "                        <td id=\"T_f20ab_row4_col4\" class=\"data row4 col4\" >1.000000</td>\n",
       "                        <td id=\"T_f20ab_row4_col5\" class=\"data row4 col5\" >0.846192</td>\n",
       "                        <td id=\"T_f20ab_row4_col6\" class=\"data row4 col6\" >0.780503</td>\n",
       "                        <td id=\"T_f20ab_row4_col7\" class=\"data row4 col7\" >0.746598</td>\n",
       "            </tr>\n",
       "            <tr>\n",
       "                        <th id=\"T_f20ab_level0_row5\" class=\"row_heading level0 row5\" >cnt_j_5</th>\n",
       "                        <td id=\"T_f20ab_row5_col0\" class=\"data row5 col0\" >0.745539</td>\n",
       "                        <td id=\"T_f20ab_row5_col1\" class=\"data row5 col1\" >0.738949</td>\n",
       "                        <td id=\"T_f20ab_row5_col2\" class=\"data row5 col2\" >0.747572</td>\n",
       "                        <td id=\"T_f20ab_row5_col3\" class=\"data row5 col3\" >0.779961</td>\n",
       "                        <td id=\"T_f20ab_row5_col4\" class=\"data row5 col4\" >0.846192</td>\n",
       "                        <td id=\"T_f20ab_row5_col5\" class=\"data row5 col5\" >1.000000</td>\n",
       "                        <td id=\"T_f20ab_row5_col6\" class=\"data row5 col6\" >0.846071</td>\n",
       "                        <td id=\"T_f20ab_row5_col7\" class=\"data row5 col7\" >0.779990</td>\n",
       "            </tr>\n",
       "            <tr>\n",
       "                        <th id=\"T_f20ab_level0_row6\" class=\"row_heading level0 row6\" >cnt_j_6</th>\n",
       "                        <td id=\"T_f20ab_row6_col0\" class=\"data row6 col0\" >0.760455</td>\n",
       "                        <td id=\"T_f20ab_row6_col1\" class=\"data row6 col1\" >0.745571</td>\n",
       "                        <td id=\"T_f20ab_row6_col2\" class=\"data row6 col2\" >0.738121</td>\n",
       "                        <td id=\"T_f20ab_row6_col3\" class=\"data row6 col3\" >0.746464</td>\n",
       "                        <td id=\"T_f20ab_row6_col4\" class=\"data row6 col4\" >0.780503</td>\n",
       "                        <td id=\"T_f20ab_row6_col5\" class=\"data row6 col5\" >0.846071</td>\n",
       "                        <td id=\"T_f20ab_row6_col6\" class=\"data row6 col6\" >1.000000</td>\n",
       "                        <td id=\"T_f20ab_row6_col7\" class=\"data row6 col7\" >0.845294</td>\n",
       "            </tr>\n",
       "            <tr>\n",
       "                        <th id=\"T_f20ab_level0_row7\" class=\"row_heading level0 row7\" >cnt_j_7</th>\n",
       "                        <td id=\"T_f20ab_row7_col0\" class=\"data row7 col0\" >0.746447</td>\n",
       "                        <td id=\"T_f20ab_row7_col1\" class=\"data row7 col1\" >0.760318</td>\n",
       "                        <td id=\"T_f20ab_row7_col2\" class=\"data row7 col2\" >0.744751</td>\n",
       "                        <td id=\"T_f20ab_row7_col3\" class=\"data row7 col3\" >0.737043</td>\n",
       "                        <td id=\"T_f20ab_row7_col4\" class=\"data row7 col4\" >0.746598</td>\n",
       "                        <td id=\"T_f20ab_row7_col5\" class=\"data row7 col5\" >0.779990</td>\n",
       "                        <td id=\"T_f20ab_row7_col6\" class=\"data row7 col6\" >0.845294</td>\n",
       "                        <td id=\"T_f20ab_row7_col7\" class=\"data row7 col7\" >1.000000</td>\n",
       "            </tr>\n",
       "    </tbody></table>"
      ],
      "text/plain": [
       "<pandas.io.formats.style.Styler at 0x1efec1ec0d0>"
      ]
     },
     "execution_count": 129,
     "metadata": {},
     "output_type": "execute_result"
    }
   ],
   "source": [
    "#corrélation  importante entre le décompte de vélos  du jour et ceux des 7 derniers jours\n",
    "\n",
    "corr = cnt_data.corr()\n",
    "corr.style.background_gradient(cmap=\"Spectral\")"
   ]
  },
  {
   "cell_type": "code",
   "execution_count": 130,
   "metadata": {
    "colab": {
     "base_uri": "https://localhost:8080/",
     "height": 112
    },
    "id": "jfl--Y2_70xQ",
    "outputId": "6c5e46a4-14ef-4610-ecf9-343cf05ce57a"
   },
   "outputs": [
    {
     "data": {
      "text/html": [
       "<div>\n",
       "<style scoped>\n",
       "    .dataframe tbody tr th:only-of-type {\n",
       "        vertical-align: middle;\n",
       "    }\n",
       "\n",
       "    .dataframe tbody tr th {\n",
       "        vertical-align: top;\n",
       "    }\n",
       "\n",
       "    .dataframe thead th {\n",
       "        text-align: right;\n",
       "    }\n",
       "</style>\n",
       "<table border=\"1\" class=\"dataframe\">\n",
       "  <thead>\n",
       "    <tr style=\"text-align: right;\">\n",
       "      <th></th>\n",
       "      <th>resultat_test</th>\n",
       "    </tr>\n",
       "  </thead>\n",
       "  <tbody>\n",
       "    <tr>\n",
       "      <th>pearson_coeff</th>\n",
       "      <td>8.466113e-01</td>\n",
       "    </tr>\n",
       "    <tr>\n",
       "      <th>p-value</th>\n",
       "      <td>7.212244e-202</td>\n",
       "    </tr>\n",
       "  </tbody>\n",
       "</table>\n",
       "</div>"
      ],
      "text/plain": [
       "               resultat_test\n",
       "pearson_coeff   8.466113e-01\n",
       "p-value        7.212244e-202"
      ]
     },
     "execution_count": 130,
     "metadata": {},
     "output_type": "execute_result"
    }
   ],
   "source": [
    "#Affichage de de coefficient de pearson et p-value entre cnt_j_1 et cnt\n",
    "pd.DataFrame(pearsonr(cnt_data['cnt'], cnt_data['cnt_j_1']), index=['pearson_coeff','p-value'], columns=['resultat_test'])"
   ]
  },
  {
   "cell_type": "code",
   "execution_count": 131,
   "metadata": {
    "colab": {
     "base_uri": "https://localhost:8080/",
     "height": 621
    },
    "id": "D4AaPmAP7me8",
    "outputId": "e7d0e99b-c7d9-4c64-db26-25f96153763d"
   },
   "outputs": [
    {
     "data": {
      "image/png": "[encoded data removed]",
      "text/plain": [
       "<Figure size 720x720 with 1 Axes>"
      ]
     },
     "metadata": {
      "needs_background": "light"
     },
     "output_type": "display_data"
    }
   ],
   "source": [
    "#  graphe de nuages ci-dessus affiche le décompte vélo du jour J-1 en fonction du décompte vélo du jour J\n",
    "plt.figure( figsize= (10, 10) )\n",
    "plt.scatter(cnt_data.cnt, cnt_data.cnt_j_1, c = 'orange');\n",
    "plt.title('décompte vélo du jour  J-1 en fonction du décompte vélo du jour J ')\n",
    "plt.xlabel('cnt')\n",
    "plt.ylabel('cnt_j_1');\n",
    "\n"
   ]
  },
  {
   "cell_type": "markdown",
   "metadata": {
    "id": "NjjiIl08Tcr1"
   },
   "source": [
    "Le graphe de nuages ci-dessus affiche le décompte vélo du jour  J-1 en fonction du décompte vélo du jour J . On constate que la forme de cette courbe est plutot proche d'une droite linéaire ce qui confirme la corrélation entre les variables 'cnt_j_1' et 'cnt'"
   ]
  },
  {
   "cell_type": "markdown",
   "metadata": {
    "id": "VLkTyBv40q8b"
   },
   "source": [
    "1.2.2.Aggrégation des données par jour de la semaine"
   ]
  },
  {
   "cell_type": "markdown",
   "metadata": {
    "id": "Hq27xRaEG1qg"
   },
   "source": [
    "Nous allons maintenant aggréer les données par jour de la semaine , en utilsant un groupby sur 'weekday' , le nouveau jeu de données est nommé 'data_jour_semaine'"
   ]
  },
  {
   "cell_type": "code",
   "execution_count": 132,
   "metadata": {
    "colab": {
     "base_uri": "https://localhost:8080/",
     "height": 238
    },
    "id": "PyInjjYBeHxQ",
    "outputId": "a501d4b6-0436-406e-c456-33772d698fc0"
   },
   "outputs": [
    {
     "data": {
      "text/html": [
       "<div>\n",
       "<style scoped>\n",
       "    .dataframe tbody tr th:only-of-type {\n",
       "        vertical-align: middle;\n",
       "    }\n",
       "\n",
       "    .dataframe tbody tr th {\n",
       "        vertical-align: top;\n",
       "    }\n",
       "\n",
       "    .dataframe thead th {\n",
       "        text-align: right;\n",
       "    }\n",
       "</style>\n",
       "<table border=\"1\" class=\"dataframe\">\n",
       "  <thead>\n",
       "    <tr style=\"text-align: right;\">\n",
       "      <th>weathersit</th>\n",
       "      <th>clear</th>\n",
       "      <th>cloudy</th>\n",
       "      <th>rainy</th>\n",
       "      <th>snowy</th>\n",
       "    </tr>\n",
       "    <tr>\n",
       "      <th>weekday</th>\n",
       "      <th></th>\n",
       "      <th></th>\n",
       "      <th></th>\n",
       "      <th></th>\n",
       "    </tr>\n",
       "  </thead>\n",
       "  <tbody>\n",
       "    <tr>\n",
       "      <th>Friday</th>\n",
       "      <td>0.661439</td>\n",
       "      <td>0.264978</td>\n",
       "      <td>0.000000</td>\n",
       "      <td>0.073583</td>\n",
       "    </tr>\n",
       "    <tr>\n",
       "      <th>Monday</th>\n",
       "      <td>0.638161</td>\n",
       "      <td>0.292860</td>\n",
       "      <td>0.000403</td>\n",
       "      <td>0.068576</td>\n",
       "    </tr>\n",
       "    <tr>\n",
       "      <th>Saturday</th>\n",
       "      <td>0.666799</td>\n",
       "      <td>0.257962</td>\n",
       "      <td>0.000398</td>\n",
       "      <td>0.074841</td>\n",
       "    </tr>\n",
       "    <tr>\n",
       "      <th>Sunday</th>\n",
       "      <td>0.705436</td>\n",
       "      <td>0.227018</td>\n",
       "      <td>0.000000</td>\n",
       "      <td>0.067546</td>\n",
       "    </tr>\n",
       "    <tr>\n",
       "      <th>Thursday</th>\n",
       "      <td>0.670174</td>\n",
       "      <td>0.257386</td>\n",
       "      <td>0.000000</td>\n",
       "      <td>0.072440</td>\n",
       "    </tr>\n",
       "  </tbody>\n",
       "</table>\n",
       "</div>"
      ],
      "text/plain": [
       "weathersit     clear    cloudy     rainy     snowy\n",
       "weekday                                           \n",
       "Friday      0.661439  0.264978  0.000000  0.073583\n",
       "Monday      0.638161  0.292860  0.000403  0.068576\n",
       "Saturday    0.666799  0.257962  0.000398  0.074841\n",
       "Sunday      0.705436  0.227018  0.000000  0.067546\n",
       "Thursday    0.670174  0.257386  0.000000  0.072440"
      ]
     },
     "execution_count": 132,
     "metadata": {},
     "output_type": "execute_result"
    }
   ],
   "source": [
    "# créons un jeu de données qui affiche le pourcentage de chaque classe du weathersit pour chaque jour de la semaine \n",
    "weathersit_class_s = data.groupby('weekday').weathersit.value_counts(normalize=True).unstack().fillna(0)\n",
    "weathersit_class_s.head()"
   ]
  },
  {
   "cell_type": "code",
   "execution_count": 133,
   "metadata": {
    "colab": {
     "base_uri": "https://localhost:8080/",
     "height": 300
    },
    "id": "j4jZJhN4e4c-",
    "outputId": "63386a66-e327-4c2c-bf25-8c829eee018c"
   },
   "outputs": [
    {
     "data": {
      "text/html": [
       "<div>\n",
       "<style scoped>\n",
       "    .dataframe tbody tr th:only-of-type {\n",
       "        vertical-align: middle;\n",
       "    }\n",
       "\n",
       "    .dataframe tbody tr th {\n",
       "        vertical-align: top;\n",
       "    }\n",
       "\n",
       "    .dataframe thead th {\n",
       "        text-align: right;\n",
       "    }\n",
       "</style>\n",
       "<table border=\"1\" class=\"dataframe\">\n",
       "  <thead>\n",
       "    <tr style=\"text-align: right;\">\n",
       "      <th></th>\n",
       "      <th>cnt</th>\n",
       "    </tr>\n",
       "    <tr>\n",
       "      <th>weekday</th>\n",
       "      <th></th>\n",
       "    </tr>\n",
       "  </thead>\n",
       "  <tbody>\n",
       "    <tr>\n",
       "      <th>Friday</th>\n",
       "      <td>487790</td>\n",
       "    </tr>\n",
       "    <tr>\n",
       "      <th>Monday</th>\n",
       "      <td>455503</td>\n",
       "    </tr>\n",
       "    <tr>\n",
       "      <th>Saturday</th>\n",
       "      <td>477807</td>\n",
       "    </tr>\n",
       "    <tr>\n",
       "      <th>Sunday</th>\n",
       "      <td>444027</td>\n",
       "    </tr>\n",
       "    <tr>\n",
       "      <th>Thursday</th>\n",
       "      <td>485395</td>\n",
       "    </tr>\n",
       "    <tr>\n",
       "      <th>Tuesday</th>\n",
       "      <td>469109</td>\n",
       "    </tr>\n",
       "    <tr>\n",
       "      <th>Wednesday</th>\n",
       "      <td>473048</td>\n",
       "    </tr>\n",
       "  </tbody>\n",
       "</table>\n",
       "</div>"
      ],
      "text/plain": [
       "              cnt\n",
       "weekday          \n",
       "Friday     487790\n",
       "Monday     455503\n",
       "Saturday   477807\n",
       "Sunday     444027\n",
       "Thursday   485395\n",
       "Tuesday    469109\n",
       "Wednesday  473048"
      ]
     },
     "execution_count": 133,
     "metadata": {},
     "output_type": "execute_result"
    }
   ],
   "source": [
    "# créons un jeu de données qui contient  que le décompte de vélo du jour J pour chaque jour de la semaine \n",
    "functions_to_apply = {\n",
    "    \n",
    "    'cnt' : 'sum'\n",
    "}\n",
    "cnt_data_s = data.groupby('weekday').agg(functions_to_apply)\n",
    "\n",
    "cnt_data_s"
   ]
  },
  {
   "cell_type": "code",
   "execution_count": 134,
   "metadata": {
    "colab": {
     "base_uri": "https://localhost:8080/",
     "height": 338
    },
    "id": "i6ZeVQee0zhr",
    "outputId": "1f5b03ad-08c1-4264-dccd-f09cf5292893"
   },
   "outputs": [
    {
     "data": {
      "text/html": [
       "<div>\n",
       "<style scoped>\n",
       "    .dataframe tbody tr th:only-of-type {\n",
       "        vertical-align: middle;\n",
       "    }\n",
       "\n",
       "    .dataframe tbody tr th {\n",
       "        vertical-align: top;\n",
       "    }\n",
       "\n",
       "    .dataframe thead th {\n",
       "        text-align: right;\n",
       "    }\n",
       "</style>\n",
       "<table border=\"1\" class=\"dataframe\">\n",
       "  <thead>\n",
       "    <tr style=\"text-align: right;\">\n",
       "      <th></th>\n",
       "      <th>(hum, min)</th>\n",
       "      <th>(hum, max)</th>\n",
       "      <th>(hum, mean)</th>\n",
       "      <th>(hum, q25)</th>\n",
       "      <th>(hum, q50)</th>\n",
       "      <th>(hum, q75)</th>\n",
       "      <th>(windspeed, min)</th>\n",
       "      <th>(windspeed, max)</th>\n",
       "      <th>(windspeed, mean)</th>\n",
       "      <th>(windspeed, q25)</th>\n",
       "      <th>...</th>\n",
       "      <th>(atemp, max)</th>\n",
       "      <th>(atemp, mean)</th>\n",
       "      <th>(atemp, q25)</th>\n",
       "      <th>(atemp, q50)</th>\n",
       "      <th>(atemp, q75)</th>\n",
       "      <th>clear</th>\n",
       "      <th>cloudy</th>\n",
       "      <th>rainy</th>\n",
       "      <th>snowy</th>\n",
       "      <th>cnt</th>\n",
       "    </tr>\n",
       "    <tr>\n",
       "      <th>weekday</th>\n",
       "      <th></th>\n",
       "      <th></th>\n",
       "      <th></th>\n",
       "      <th></th>\n",
       "      <th></th>\n",
       "      <th></th>\n",
       "      <th></th>\n",
       "      <th></th>\n",
       "      <th></th>\n",
       "      <th></th>\n",
       "      <th></th>\n",
       "      <th></th>\n",
       "      <th></th>\n",
       "      <th></th>\n",
       "      <th></th>\n",
       "      <th></th>\n",
       "      <th></th>\n",
       "      <th></th>\n",
       "      <th></th>\n",
       "      <th></th>\n",
       "      <th></th>\n",
       "    </tr>\n",
       "  </thead>\n",
       "  <tbody>\n",
       "    <tr>\n",
       "      <th>Friday</th>\n",
       "      <td>0.08</td>\n",
       "      <td>1.0</td>\n",
       "      <td>0.613840</td>\n",
       "      <td>0.46</td>\n",
       "      <td>0.61</td>\n",
       "      <td>0.77</td>\n",
       "      <td>0.0</td>\n",
       "      <td>54.0020</td>\n",
       "      <td>12.490831</td>\n",
       "      <td>7.0015</td>\n",
       "      <td>...</td>\n",
       "      <td>50.0000</td>\n",
       "      <td>15.140652</td>\n",
       "      <td>5.0012</td>\n",
       "      <td>15.0002</td>\n",
       "      <td>24.9992</td>\n",
       "      <td>0.661439</td>\n",
       "      <td>0.264978</td>\n",
       "      <td>0.000000</td>\n",
       "      <td>0.073583</td>\n",
       "      <td>487790</td>\n",
       "    </tr>\n",
       "    <tr>\n",
       "      <th>Monday</th>\n",
       "      <td>0.15</td>\n",
       "      <td>1.0</td>\n",
       "      <td>0.635651</td>\n",
       "      <td>0.49</td>\n",
       "      <td>0.64</td>\n",
       "      <td>0.78</td>\n",
       "      <td>0.0</td>\n",
       "      <td>47.9988</td>\n",
       "      <td>12.653819</td>\n",
       "      <td>7.0015</td>\n",
       "      <td>...</td>\n",
       "      <td>40.0010</td>\n",
       "      <td>15.409916</td>\n",
       "      <td>5.9978</td>\n",
       "      <td>17.0000</td>\n",
       "      <td>24.9992</td>\n",
       "      <td>0.638161</td>\n",
       "      <td>0.292860</td>\n",
       "      <td>0.000403</td>\n",
       "      <td>0.068576</td>\n",
       "      <td>455503</td>\n",
       "    </tr>\n",
       "    <tr>\n",
       "      <th>Saturday</th>\n",
       "      <td>0.12</td>\n",
       "      <td>1.0</td>\n",
       "      <td>0.619084</td>\n",
       "      <td>0.45</td>\n",
       "      <td>0.62</td>\n",
       "      <td>0.79</td>\n",
       "      <td>0.0</td>\n",
       "      <td>55.9986</td>\n",
       "      <td>13.144739</td>\n",
       "      <td>7.0015</td>\n",
       "      <td>...</td>\n",
       "      <td>42.9974</td>\n",
       "      <td>14.485994</td>\n",
       "      <td>3.9980</td>\n",
       "      <td>13.9970</td>\n",
       "      <td>24.9992</td>\n",
       "      <td>0.666799</td>\n",
       "      <td>0.257962</td>\n",
       "      <td>0.000398</td>\n",
       "      <td>0.074841</td>\n",
       "      <td>477807</td>\n",
       "    </tr>\n",
       "    <tr>\n",
       "      <th>Sunday</th>\n",
       "      <td>0.16</td>\n",
       "      <td>1.0</td>\n",
       "      <td>0.627994</td>\n",
       "      <td>0.48</td>\n",
       "      <td>0.63</td>\n",
       "      <td>0.78</td>\n",
       "      <td>0.0</td>\n",
       "      <td>56.9969</td>\n",
       "      <td>12.602223</td>\n",
       "      <td>7.0015</td>\n",
       "      <td>...</td>\n",
       "      <td>44.0006</td>\n",
       "      <td>14.723438</td>\n",
       "      <td>5.9978</td>\n",
       "      <td>15.0002</td>\n",
       "      <td>24.9992</td>\n",
       "      <td>0.705436</td>\n",
       "      <td>0.227018</td>\n",
       "      <td>0.000000</td>\n",
       "      <td>0.067546</td>\n",
       "      <td>444027</td>\n",
       "    </tr>\n",
       "    <tr>\n",
       "      <th>Thursday</th>\n",
       "      <td>0.00</td>\n",
       "      <td>1.0</td>\n",
       "      <td>0.609628</td>\n",
       "      <td>0.47</td>\n",
       "      <td>0.61</td>\n",
       "      <td>0.76</td>\n",
       "      <td>0.0</td>\n",
       "      <td>46.0022</td>\n",
       "      <td>12.863143</td>\n",
       "      <td>7.0015</td>\n",
       "      <td>...</td>\n",
       "      <td>44.9972</td>\n",
       "      <td>16.011408</td>\n",
       "      <td>5.9978</td>\n",
       "      <td>15.9968</td>\n",
       "      <td>24.9992</td>\n",
       "      <td>0.670174</td>\n",
       "      <td>0.257386</td>\n",
       "      <td>0.000000</td>\n",
       "      <td>0.072440</td>\n",
       "      <td>485395</td>\n",
       "    </tr>\n",
       "    <tr>\n",
       "      <th>Tuesday</th>\n",
       "      <td>0.16</td>\n",
       "      <td>1.0</td>\n",
       "      <td>0.639833</td>\n",
       "      <td>0.49</td>\n",
       "      <td>0.66</td>\n",
       "      <td>0.81</td>\n",
       "      <td>0.0</td>\n",
       "      <td>51.9987</td>\n",
       "      <td>12.858461</td>\n",
       "      <td>7.0015</td>\n",
       "      <td>...</td>\n",
       "      <td>40.0010</td>\n",
       "      <td>16.153847</td>\n",
       "      <td>7.0010</td>\n",
       "      <td>17.0000</td>\n",
       "      <td>24.9992</td>\n",
       "      <td>0.620465</td>\n",
       "      <td>0.282919</td>\n",
       "      <td>0.000000</td>\n",
       "      <td>0.096616</td>\n",
       "      <td>469109</td>\n",
       "    </tr>\n",
       "    <tr>\n",
       "      <th>Wednesday</th>\n",
       "      <td>0.19</td>\n",
       "      <td>1.0</td>\n",
       "      <td>0.644820</td>\n",
       "      <td>0.49</td>\n",
       "      <td>0.65</td>\n",
       "      <td>0.82</td>\n",
       "      <td>0.0</td>\n",
       "      <td>43.0006</td>\n",
       "      <td>12.540538</td>\n",
       "      <td>7.0015</td>\n",
       "      <td>...</td>\n",
       "      <td>42.0008</td>\n",
       "      <td>15.912843</td>\n",
       "      <td>5.9978</td>\n",
       "      <td>17.0000</td>\n",
       "      <td>24.9992</td>\n",
       "      <td>0.633535</td>\n",
       "      <td>0.247677</td>\n",
       "      <td>0.000404</td>\n",
       "      <td>0.118384</td>\n",
       "      <td>473048</td>\n",
       "    </tr>\n",
       "  </tbody>\n",
       "</table>\n",
       "<p>7 rows × 29 columns</p>\n",
       "</div>"
      ],
      "text/plain": [
       "           (hum, min)  (hum, max)  (hum, mean)  (hum, q25)  (hum, q50)  \\\n",
       "weekday                                                                  \n",
       "Friday           0.08         1.0     0.613840        0.46        0.61   \n",
       "Monday           0.15         1.0     0.635651        0.49        0.64   \n",
       "Saturday         0.12         1.0     0.619084        0.45        0.62   \n",
       "Sunday           0.16         1.0     0.627994        0.48        0.63   \n",
       "Thursday         0.00         1.0     0.609628        0.47        0.61   \n",
       "Tuesday          0.16         1.0     0.639833        0.49        0.66   \n",
       "Wednesday        0.19         1.0     0.644820        0.49        0.65   \n",
       "\n",
       "           (hum, q75)  (windspeed, min)  (windspeed, max)  (windspeed, mean)  \\\n",
       "weekday                                                                        \n",
       "Friday           0.77               0.0           54.0020          12.490831   \n",
       "Monday           0.78               0.0           47.9988          12.653819   \n",
       "Saturday         0.79               0.0           55.9986          13.144739   \n",
       "Sunday           0.78               0.0           56.9969          12.602223   \n",
       "Thursday         0.76               0.0           46.0022          12.863143   \n",
       "Tuesday          0.81               0.0           51.9987          12.858461   \n",
       "Wednesday        0.82               0.0           43.0006          12.540538   \n",
       "\n",
       "           (windspeed, q25)  ...  (atemp, max)  (atemp, mean)  (atemp, q25)  \\\n",
       "weekday                      ...                                              \n",
       "Friday               7.0015  ...       50.0000      15.140652        5.0012   \n",
       "Monday               7.0015  ...       40.0010      15.409916        5.9978   \n",
       "Saturday             7.0015  ...       42.9974      14.485994        3.9980   \n",
       "Sunday               7.0015  ...       44.0006      14.723438        5.9978   \n",
       "Thursday             7.0015  ...       44.9972      16.011408        5.9978   \n",
       "Tuesday              7.0015  ...       40.0010      16.153847        7.0010   \n",
       "Wednesday            7.0015  ...       42.0008      15.912843        5.9978   \n",
       "\n",
       "           (atemp, q50)  (atemp, q75)     clear    cloudy     rainy     snowy  \\\n",
       "weekday                                                                         \n",
       "Friday          15.0002       24.9992  0.661439  0.264978  0.000000  0.073583   \n",
       "Monday          17.0000       24.9992  0.638161  0.292860  0.000403  0.068576   \n",
       "Saturday        13.9970       24.9992  0.666799  0.257962  0.000398  0.074841   \n",
       "Sunday          15.0002       24.9992  0.705436  0.227018  0.000000  0.067546   \n",
       "Thursday        15.9968       24.9992  0.670174  0.257386  0.000000  0.072440   \n",
       "Tuesday         17.0000       24.9992  0.620465  0.282919  0.000000  0.096616   \n",
       "Wednesday       17.0000       24.9992  0.633535  0.247677  0.000404  0.118384   \n",
       "\n",
       "              cnt  \n",
       "weekday            \n",
       "Friday     487790  \n",
       "Monday     455503  \n",
       "Saturday   477807  \n",
       "Sunday     444027  \n",
       "Thursday   485395  \n",
       "Tuesday    469109  \n",
       "Wednesday  473048  \n",
       "\n",
       "[7 rows x 29 columns]"
      ]
     },
     "execution_count": 134,
     "metadata": {},
     "output_type": "execute_result"
    }
   ],
   "source": [
    "\n",
    "# fonction qui passera en argument de agg \n",
    "functions_to_apply = {\n",
    "    \n",
    "    'hum' : ['min','max','mean',q25,q50,q75],\n",
    "    'windspeed' :['min','max','mean',q25,q50,q75],\n",
    "    'temp' : ['min','max','mean',q25,q50,q75],\n",
    "    'atemp' : ['min','max','mean',q25,q50,q75]\n",
    "}\n",
    "#le nouveau jeu de données par jour de la semaine est nommé 'data_jour_semaine' \n",
    "data_jour_semaine = pd.concat([data.groupby('weekday').agg(functions_to_apply),weathersit_class_s,cnt_data_s],axis=1)\n",
    "#data.groupby('weekday').agg(functions_to_apply)\n",
    "\n",
    "data_jour_semaine\n"
   ]
  },
  {
   "cell_type": "code",
   "execution_count": 135,
   "metadata": {
    "colab": {
     "base_uri": "https://localhost:8080/"
    },
    "id": "GiTAeVJX2AdS",
    "outputId": "318718d2-54b7-45ae-b10f-3c5f3867d741"
   },
   "outputs": [
    {
     "name": "stdout",
     "output_type": "stream",
     "text": [
      "<class 'pandas.core.frame.DataFrame'>\n",
      "Index: 7 entries, Friday to Wednesday\n",
      "Data columns (total 29 columns):\n",
      " #   Column             Non-Null Count  Dtype  \n",
      "---  ------             --------------  -----  \n",
      " 0   (hum, min)         7 non-null      float64\n",
      " 1   (hum, max)         7 non-null      float64\n",
      " 2   (hum, mean)        7 non-null      float64\n",
      " 3   (hum, q25)         7 non-null      float64\n",
      " 4   (hum, q50)         7 non-null      float64\n",
      " 5   (hum, q75)         7 non-null      float64\n",
      " 6   (windspeed, min)   7 non-null      float64\n",
      " 7   (windspeed, max)   7 non-null      float64\n",
      " 8   (windspeed, mean)  7 non-null      float64\n",
      " 9   (windspeed, q25)   7 non-null      float64\n",
      " 10  (windspeed, q50)   7 non-null      float64\n",
      " 11  (windspeed, q75)   7 non-null      float64\n",
      " 12  (temp, min)        7 non-null      float64\n",
      " 13  (temp, max)        7 non-null      float64\n",
      " 14  (temp, mean)       7 non-null      float64\n",
      " 15  (temp, q25)        7 non-null      float64\n",
      " 16  (temp, q50)        7 non-null      float64\n",
      " 17  (temp, q75)        7 non-null      float64\n",
      " 18  (atemp, min)       7 non-null      float64\n",
      " 19  (atemp, max)       7 non-null      float64\n",
      " 20  (atemp, mean)      7 non-null      float64\n",
      " 21  (atemp, q25)       7 non-null      float64\n",
      " 22  (atemp, q50)       7 non-null      float64\n",
      " 23  (atemp, q75)       7 non-null      float64\n",
      " 24  clear              7 non-null      float64\n",
      " 25  cloudy             7 non-null      float64\n",
      " 26  rainy              7 non-null      float64\n",
      " 27  snowy              7 non-null      float64\n",
      " 28  cnt                7 non-null      int64  \n",
      "dtypes: float64(28), int64(1)\n",
      "memory usage: 1.6+ KB\n"
     ]
    }
   ],
   "source": [
    "# déscription des données\n",
    "data_jour_semaine.info()"
   ]
  },
  {
   "cell_type": "code",
   "execution_count": 136,
   "metadata": {
    "colab": {
     "base_uri": "https://localhost:8080/"
    },
    "id": "zzDKKCMHy051",
    "outputId": "0bf39574-1e3c-48a5-c6a1-728dcd50b3cf"
   },
   "outputs": [
    {
     "data": {
      "text/plain": [
       "Index(['Friday', 'Monday', 'Saturday', 'Sunday', 'Thursday', 'Tuesday',\n",
       "       'Wednesday'],\n",
       "      dtype='object', name='weekday')"
      ]
     },
     "execution_count": 136,
     "metadata": {},
     "output_type": "execute_result"
    }
   ],
   "source": [
    "# indices du dataframe data_jour_semaine ==> Jours de la semaine\n",
    "data_jour_semaine.index"
   ]
  },
  {
   "cell_type": "markdown",
   "metadata": {
    "id": "VUgL8eRFC63d"
   },
   "source": [
    "Le graphe ci-dessous affiche le décompte du nombre de vélos utilisés par par jour de semaine , on remarque que l'utilisation de vélo  est presque stable pendant sur les 7 jours"
   ]
  },
  {
   "cell_type": "code",
   "execution_count": 137,
   "metadata": {
    "colab": {
     "base_uri": "https://localhost:8080/",
     "height": 621
    },
    "id": "IvzY7fJB33Is",
    "outputId": "cffe27a2-8331-4d22-ff40-1e5abf549cc2"
   },
   "outputs": [
    {
     "data": {
      "image/png": "[encoded data removed]",
      "text/plain": [
       "<Figure size 720x720 with 1 Axes>"
      ]
     },
     "metadata": {
      "needs_background": "light"
     },
     "output_type": "display_data"
    }
   ],
   "source": [
    "plt.figure( figsize= (10, 10) )\n",
    "plt.bar( data_jour_semaine.index, data_jour_semaine.cnt, width = 0.6, label = \"cnt\")\n",
    "plt.xlabel('Jour de semaine')\n",
    "plt.ylabel('cnt')\n",
    "plt.title(\"décompte du nombre de vélos utilisés par Jour de semaine\")\n",
    "plt.legend();"
   ]
  },
  {
   "cell_type": "markdown",
   "metadata": {
    "id": "KpaKSyDHLGa9"
   },
   "source": [
    "# **2.Entraînement et évaluation des modèles de machine learning**"
   ]
  },
  {
   "cell_type": "markdown",
   "metadata": {
    "id": "2CeIhR6kPFJT"
   },
   "source": [
    "Nous entrainerons  notre jeu de données 'data_jour_annee' avec quatre modéles : LinearRegression , RandomForestRegressor, DecisionTreeRegressor et Ridge"
   ]
  },
  {
   "cell_type": "markdown",
   "metadata": {
    "id": "OoPBSDpzSw4L"
   },
   "source": [
    "**2.1.Préparation des données**"
   ]
  },
  {
   "cell_type": "code",
   "execution_count": 138,
   "metadata": {
    "colab": {
     "base_uri": "https://localhost:8080/"
    },
    "id": "sOuy8BDUTo3Y",
    "outputId": "50435338-2490-4dfb-ae09-b5472dbae1a9"
   },
   "outputs": [
    {
     "name": "stdout",
     "output_type": "stream",
     "text": [
      "<class 'pandas.core.frame.DataFrame'>\n",
      "DatetimeIndex: 731 entries, 2011-01-01 to 2012-12-31\n",
      "Data columns (total 37 columns):\n",
      " #   Column          Non-Null Count  Dtype  \n",
      "---  ------          --------------  -----  \n",
      " 0   hum_min         731 non-null    float64\n",
      " 1   hum_max         731 non-null    float64\n",
      " 2   hum_mean        731 non-null    float64\n",
      " 3   hum_q25         731 non-null    float64\n",
      " 4   hum_q50         731 non-null    float64\n",
      " 5   hum_q75         731 non-null    float64\n",
      " 6   windspeed_min   731 non-null    float64\n",
      " 7   windspeed_max   731 non-null    float64\n",
      " 8   windspeed_mean  731 non-null    float64\n",
      " 9   windspeed_q25   731 non-null    float64\n",
      " 10  windspeed_q50   731 non-null    float64\n",
      " 11  windspeed_q75   731 non-null    float64\n",
      " 12  temp_min        731 non-null    float64\n",
      " 13  temp_max        731 non-null    float64\n",
      " 14  temp_mean       731 non-null    float64\n",
      " 15  temp_q25        731 non-null    float64\n",
      " 16  temp_q50        731 non-null    float64\n",
      " 17  temp_q75        731 non-null    float64\n",
      " 18  atemp_min       731 non-null    float64\n",
      " 19  atemp_max       731 non-null    float64\n",
      " 20  atemp_mean      731 non-null    float64\n",
      " 21  atemp_q25       731 non-null    float64\n",
      " 22  atemp_q50       731 non-null    float64\n",
      " 23  atemp_q75       731 non-null    float64\n",
      " 24  clear           731 non-null    float64\n",
      " 25  cloudy          731 non-null    float64\n",
      " 26  rainy           731 non-null    float64\n",
      " 27  snowy           731 non-null    float64\n",
      " 28  cnt             731 non-null    int64  \n",
      " 29  cnt_j_1         731 non-null    float64\n",
      " 30  cnt_j_2         731 non-null    float64\n",
      " 31  cnt_j_3         731 non-null    float64\n",
      " 32  cnt_j_4         731 non-null    float64\n",
      " 33  cnt_j_5         731 non-null    float64\n",
      " 34  cnt_j_6         731 non-null    float64\n",
      " 35  cnt_j_7         731 non-null    float64\n",
      " 36  cnt_lendemain   731 non-null    float64\n",
      "dtypes: float64(36), int64(1)\n",
      "memory usage: 217.0 KB\n"
     ]
    }
   ],
   "source": [
    "# ajout de la variable 'cnt_lendemain' qui est le décompte de vélo  au jour n+1 au jeu de données data_jour_annee\n",
    "data_jour_annee['cnt_lendemain'] = cnt_data['cnt'].shift(periods=-1)\n",
    "\n",
    "# remplaçons les valeurs nan par la mediane \n",
    "data_jour_annee = data_jour_annee.fillna(data_jour_annee.median())\n",
    "\n",
    "# informations des données data_jour_annee\n",
    "data_jour_annee.info()"
   ]
  },
  {
   "cell_type": "code",
   "execution_count": 139,
   "metadata": {
    "colab": {
     "base_uri": "https://localhost:8080/",
     "height": 293
    },
    "id": "jrqcW-MFTpxf",
    "outputId": "696d31aa-51cb-407f-af3c-b43dc9d0ae42"
   },
   "outputs": [
    {
     "name": "stdout",
     "output_type": "stream",
     "text": [
      "(731, 36) (731,)\n"
     ]
    },
    {
     "data": {
      "text/html": [
       "<div>\n",
       "<style scoped>\n",
       "    .dataframe tbody tr th:only-of-type {\n",
       "        vertical-align: middle;\n",
       "    }\n",
       "\n",
       "    .dataframe tbody tr th {\n",
       "        vertical-align: top;\n",
       "    }\n",
       "\n",
       "    .dataframe thead th {\n",
       "        text-align: right;\n",
       "    }\n",
       "</style>\n",
       "<table border=\"1\" class=\"dataframe\">\n",
       "  <thead>\n",
       "    <tr style=\"text-align: right;\">\n",
       "      <th></th>\n",
       "      <th>hum_min</th>\n",
       "      <th>hum_max</th>\n",
       "      <th>hum_mean</th>\n",
       "      <th>hum_q25</th>\n",
       "      <th>hum_q50</th>\n",
       "      <th>hum_q75</th>\n",
       "      <th>windspeed_min</th>\n",
       "      <th>windspeed_max</th>\n",
       "      <th>windspeed_mean</th>\n",
       "      <th>windspeed_q25</th>\n",
       "      <th>...</th>\n",
       "      <th>snowy</th>\n",
       "      <th>cnt</th>\n",
       "      <th>cnt_j_1</th>\n",
       "      <th>cnt_j_2</th>\n",
       "      <th>cnt_j_3</th>\n",
       "      <th>cnt_j_4</th>\n",
       "      <th>cnt_j_5</th>\n",
       "      <th>cnt_j_6</th>\n",
       "      <th>cnt_j_7</th>\n",
       "      <th>cnt_lendemain</th>\n",
       "    </tr>\n",
       "    <tr>\n",
       "      <th>dteday</th>\n",
       "      <th></th>\n",
       "      <th></th>\n",
       "      <th></th>\n",
       "      <th></th>\n",
       "      <th></th>\n",
       "      <th></th>\n",
       "      <th></th>\n",
       "      <th></th>\n",
       "      <th></th>\n",
       "      <th></th>\n",
       "      <th></th>\n",
       "      <th></th>\n",
       "      <th></th>\n",
       "      <th></th>\n",
       "      <th></th>\n",
       "      <th></th>\n",
       "      <th></th>\n",
       "      <th></th>\n",
       "      <th></th>\n",
       "      <th></th>\n",
       "      <th></th>\n",
       "    </tr>\n",
       "  </thead>\n",
       "  <tbody>\n",
       "    <tr>\n",
       "      <th>2012-12-27</th>\n",
       "      <td>0.49</td>\n",
       "      <td>0.93</td>\n",
       "      <td>0.652917</td>\n",
       "      <td>0.5600</td>\n",
       "      <td>0.600</td>\n",
       "      <td>0.7125</td>\n",
       "      <td>11.0014</td>\n",
       "      <td>35.0008</td>\n",
       "      <td>23.458933</td>\n",
       "      <td>16.997900</td>\n",
       "      <td>...</td>\n",
       "      <td>0.083333</td>\n",
       "      <td>2114</td>\n",
       "      <td>441.0</td>\n",
       "      <td>1013.0</td>\n",
       "      <td>920.0</td>\n",
       "      <td>1787.0</td>\n",
       "      <td>1749.0</td>\n",
       "      <td>3623.0</td>\n",
       "      <td>4128.0</td>\n",
       "      <td>3095.0</td>\n",
       "    </tr>\n",
       "    <tr>\n",
       "      <th>2012-12-28</th>\n",
       "      <td>0.49</td>\n",
       "      <td>0.70</td>\n",
       "      <td>0.590000</td>\n",
       "      <td>0.5500</td>\n",
       "      <td>0.600</td>\n",
       "      <td>0.6400</td>\n",
       "      <td>0.0000</td>\n",
       "      <td>19.0012</td>\n",
       "      <td>10.416546</td>\n",
       "      <td>8.498950</td>\n",
       "      <td>...</td>\n",
       "      <td>0.000000</td>\n",
       "      <td>3095</td>\n",
       "      <td>2114.0</td>\n",
       "      <td>441.0</td>\n",
       "      <td>1013.0</td>\n",
       "      <td>920.0</td>\n",
       "      <td>1787.0</td>\n",
       "      <td>1749.0</td>\n",
       "      <td>3623.0</td>\n",
       "      <td>1341.0</td>\n",
       "    </tr>\n",
       "    <tr>\n",
       "      <th>2012-12-29</th>\n",
       "      <td>0.56</td>\n",
       "      <td>1.00</td>\n",
       "      <td>0.752917</td>\n",
       "      <td>0.7000</td>\n",
       "      <td>0.750</td>\n",
       "      <td>0.8100</td>\n",
       "      <td>0.0000</td>\n",
       "      <td>36.9974</td>\n",
       "      <td>8.333683</td>\n",
       "      <td>0.000000</td>\n",
       "      <td>...</td>\n",
       "      <td>0.166667</td>\n",
       "      <td>1341</td>\n",
       "      <td>3095.0</td>\n",
       "      <td>2114.0</td>\n",
       "      <td>441.0</td>\n",
       "      <td>1013.0</td>\n",
       "      <td>920.0</td>\n",
       "      <td>1787.0</td>\n",
       "      <td>1749.0</td>\n",
       "      <td>1796.0</td>\n",
       "    </tr>\n",
       "    <tr>\n",
       "      <th>2012-12-30</th>\n",
       "      <td>0.36</td>\n",
       "      <td>0.61</td>\n",
       "      <td>0.483333</td>\n",
       "      <td>0.4100</td>\n",
       "      <td>0.510</td>\n",
       "      <td>0.5600</td>\n",
       "      <td>0.0000</td>\n",
       "      <td>43.9989</td>\n",
       "      <td>23.500529</td>\n",
       "      <td>18.001225</td>\n",
       "      <td>...</td>\n",
       "      <td>0.000000</td>\n",
       "      <td>1796</td>\n",
       "      <td>1341.0</td>\n",
       "      <td>3095.0</td>\n",
       "      <td>2114.0</td>\n",
       "      <td>441.0</td>\n",
       "      <td>1013.0</td>\n",
       "      <td>920.0</td>\n",
       "      <td>1787.0</td>\n",
       "      <td>2729.0</td>\n",
       "    </tr>\n",
       "    <tr>\n",
       "      <th>2012-12-31</th>\n",
       "      <td>0.44</td>\n",
       "      <td>0.69</td>\n",
       "      <td>0.577500</td>\n",
       "      <td>0.5325</td>\n",
       "      <td>0.595</td>\n",
       "      <td>0.6400</td>\n",
       "      <td>6.0032</td>\n",
       "      <td>15.0013</td>\n",
       "      <td>10.374671</td>\n",
       "      <td>8.998100</td>\n",
       "      <td>...</td>\n",
       "      <td>0.000000</td>\n",
       "      <td>2729</td>\n",
       "      <td>1796.0</td>\n",
       "      <td>1341.0</td>\n",
       "      <td>3095.0</td>\n",
       "      <td>2114.0</td>\n",
       "      <td>441.0</td>\n",
       "      <td>1013.0</td>\n",
       "      <td>920.0</td>\n",
       "      <td>4548.5</td>\n",
       "    </tr>\n",
       "  </tbody>\n",
       "</table>\n",
       "<p>5 rows × 37 columns</p>\n",
       "</div>"
      ],
      "text/plain": [
       "            hum_min  hum_max  hum_mean  hum_q25  hum_q50  hum_q75  \\\n",
       "dteday                                                              \n",
       "2012-12-27     0.49     0.93  0.652917   0.5600    0.600   0.7125   \n",
       "2012-12-28     0.49     0.70  0.590000   0.5500    0.600   0.6400   \n",
       "2012-12-29     0.56     1.00  0.752917   0.7000    0.750   0.8100   \n",
       "2012-12-30     0.36     0.61  0.483333   0.4100    0.510   0.5600   \n",
       "2012-12-31     0.44     0.69  0.577500   0.5325    0.595   0.6400   \n",
       "\n",
       "            windspeed_min  windspeed_max  windspeed_mean  windspeed_q25  ...  \\\n",
       "dteday                                                                   ...   \n",
       "2012-12-27        11.0014        35.0008       23.458933      16.997900  ...   \n",
       "2012-12-28         0.0000        19.0012       10.416546       8.498950  ...   \n",
       "2012-12-29         0.0000        36.9974        8.333683       0.000000  ...   \n",
       "2012-12-30         0.0000        43.9989       23.500529      18.001225  ...   \n",
       "2012-12-31         6.0032        15.0013       10.374671       8.998100  ...   \n",
       "\n",
       "               snowy   cnt  cnt_j_1  cnt_j_2  cnt_j_3  cnt_j_4  cnt_j_5  \\\n",
       "dteday                                                                    \n",
       "2012-12-27  0.083333  2114    441.0   1013.0    920.0   1787.0   1749.0   \n",
       "2012-12-28  0.000000  3095   2114.0    441.0   1013.0    920.0   1787.0   \n",
       "2012-12-29  0.166667  1341   3095.0   2114.0    441.0   1013.0    920.0   \n",
       "2012-12-30  0.000000  1796   1341.0   3095.0   2114.0    441.0   1013.0   \n",
       "2012-12-31  0.000000  2729   1796.0   1341.0   3095.0   2114.0    441.0   \n",
       "\n",
       "            cnt_j_6  cnt_j_7  cnt_lendemain  \n",
       "dteday                                       \n",
       "2012-12-27   3623.0   4128.0         3095.0  \n",
       "2012-12-28   1749.0   3623.0         1341.0  \n",
       "2012-12-29   1787.0   1749.0         1796.0  \n",
       "2012-12-30    920.0   1787.0         2729.0  \n",
       "2012-12-31   1013.0    920.0         4548.5  \n",
       "\n",
       "[5 rows x 37 columns]"
      ]
     },
     "execution_count": 139,
     "metadata": {},
     "output_type": "execute_result"
    }
   ],
   "source": [
    "# A partir du module model_selection de la librairie scikit learn on importe la fonction train_test_split\n",
    "from sklearn.model_selection import train_test_split\n",
    "\n",
    "# Instanciation du dataframe contenant les variables explicatives\n",
    "\n",
    "X = data_jour_annee.drop(columns=['cnt_lendemain'])\n",
    "\n",
    "# Instanciation de la serie contenant la variable cible \n",
    "\n",
    "y = data_jour_annee.cnt_lendemain\n",
    "\n",
    "# Création d'un ensemble d'entraînement et d'un ensemble test\n",
    "X_train, X_test, y_train, y_test = train_test_split(X, y, test_size=0.2, random_state=42)\n",
    "\n",
    "# dimensions des features et target\n",
    "print(X.shape, y.shape)\n",
    "\n",
    "# dernieres lignes du data_jour_annee\n",
    "data_jour_annee.tail()"
   ]
  },
  {
   "cell_type": "code",
   "execution_count": 140,
   "metadata": {},
   "outputs": [
    {
     "data": {
      "text/plain": [
       "Index(['hum_min', 'hum_max', 'hum_mean', 'hum_q25', 'hum_q50', 'hum_q75',\n",
       "       'windspeed_min', 'windspeed_max', 'windspeed_mean', 'windspeed_q25',\n",
       "       'windspeed_q50', 'windspeed_q75', 'temp_min', 'temp_max', 'temp_mean',\n",
       "       'temp_q25', 'temp_q50', 'temp_q75', 'atemp_min', 'atemp_max',\n",
       "       'atemp_mean', 'atemp_q25', 'atemp_q50', 'atemp_q75', 'clear', 'cloudy',\n",
       "       'rainy', 'snowy', 'cnt', 'cnt_j_1', 'cnt_j_2', 'cnt_j_3', 'cnt_j_4',\n",
       "       'cnt_j_5', 'cnt_j_6', 'cnt_j_7', 'cnt_lendemain'],\n",
       "      dtype='object')"
      ]
     },
     "execution_count": 140,
     "metadata": {},
     "output_type": "execute_result"
    }
   ],
   "source": [
    "data_jour_annee.columns"
   ]
  },
  {
   "cell_type": "markdown",
   "metadata": {
    "id": "2SL4r-msjrSG"
   },
   "source": [
    "**2.2.Entraînement et évaluation du modèle  regression linéaire**"
   ]
  },
  {
   "cell_type": "code",
   "execution_count": 141,
   "metadata": {
    "colab": {
     "base_uri": "https://localhost:8080/"
    },
    "id": "ZyAyV24hMVoM",
    "outputId": "f76baa2a-c7a1-4e83-f7c5-3339331e4856"
   },
   "outputs": [
    {
     "name": "stdout",
     "output_type": "stream",
     "text": [
      "Fitting 7 folds for each of 4 candidates, totalling 28 fits\n",
      "{'fit_intercept': True, 'normalize': False}\n"
     ]
    }
   ],
   "source": [
    "# A partir du module linear_model de la librairie scikit learn on importe la fonction LinearRegression\n",
    "\n",
    "from sklearn.linear_model import LinearRegression \n",
    "\n",
    "# A partir du module model_selection de la librairie scikit learn on importe la fonction cross_validate et KFold\n",
    "\n",
    "from sklearn.model_selection import cross_val_score, KFold, GridSearchCV\n",
    "\n",
    "lrg_model =LinearRegression() \n",
    "\n",
    "#on utilise shuffle afin de mélanger les observations du dataset\n",
    "\n",
    "lrg_folds = KFold(n_splits = 7, shuffle = True, random_state=42)\n",
    "\n",
    "#Creation des paramétres grid\n",
    "lrg_param_grid = {\n",
    "   \n",
    "    'fit_intercept': [True, False],\n",
    "    'normalize': [True, False]\n",
    "}\n",
    "\n",
    "# Instantiation  du modéle de  grid search\n",
    "lrg_grid_search = GridSearchCV(estimator = lrg_model, param_grid = lrg_param_grid,\n",
    "                           cv=lrg_folds, n_jobs=-1, verbose=2, scoring='r2')\n",
    "\n",
    "# Entrainement du modéle rf_model avec X_train\n",
    "lrg_grid_search.fit(X_train, y_train)\n",
    "\n",
    "# Vérification des meilleurs parametres de de grid_search \n",
    "print(lrg_grid_search.best_params_)"
   ]
  },
  {
   "cell_type": "code",
   "execution_count": 142,
   "metadata": {
    "colab": {
     "base_uri": "https://localhost:8080/"
    },
    "id": "rmf3BOwjMj4v",
    "outputId": "7f0ed2d0-b780-4ff4-a9b7-9b97ea4a0690"
   },
   "outputs": [
    {
     "name": "stdout",
     "output_type": "stream",
     "text": [
      "LinearRegression()\n"
     ]
    }
   ],
   "source": [
    "# Paramétres optimisés du modéle LinearRegression pour le meilleur estimateur\n",
    "lrg_best_grid = lrg_grid_search.best_estimator_\n",
    "print(lrg_best_grid)"
   ]
  },
  {
   "cell_type": "code",
   "execution_count": 143,
   "metadata": {
    "colab": {
     "base_uri": "https://localhost:8080/"
    },
    "id": "r-c2haGVM2mn",
    "outputId": "6b8ef11b-6601-4e6d-ea22-0674efedb057"
   },
   "outputs": [
    {
     "name": "stdout",
     "output_type": "stream",
     "text": [
      "0.8031284750503873\n"
     ]
    }
   ],
   "source": [
    "# le score r2 du meilleur estimateur\n",
    "print(lrg_best_grid.score(X_test, y_test))"
   ]
  },
  {
   "cell_type": "markdown",
   "metadata": {
    "id": "8_y3XDvyj4Bf"
   },
   "source": [
    "**2.3.Entraînement et évaluation du modèle  RandomForest**"
   ]
  },
  {
   "cell_type": "code",
   "execution_count": 144,
   "metadata": {
    "colab": {
     "base_uri": "https://localhost:8080/"
    },
    "id": "MyRmJhssNYbe",
    "outputId": "9ced5766-e8c5-486d-9451-02ca2edf7855"
   },
   "outputs": [
    {
     "name": "stdout",
     "output_type": "stream",
     "text": [
      "Fitting 7 folds for each of 12 candidates, totalling 84 fits\n",
      "{'max_features': 'sqrt', 'n_estimators': 1000}\n"
     ]
    }
   ],
   "source": [
    "# A partir du module ensemble de la librairie scikit learn on importe la fonction RandomForestRegressor\n",
    "\n",
    "from sklearn.ensemble import RandomForestRegressor \n",
    "\n",
    "# A partir du module model_selection de la librairie scikit learn on importe la fonction cross_validate , KFold et GridSearchCV\n",
    "\n",
    "from sklearn.model_selection import cross_val_score, KFold, GridSearchCV\n",
    "\n",
    "#on utilise shuffle afin de mélanger les observations du dataset\n",
    "\n",
    "rf_folds = KFold(n_splits = 7, shuffle = True, random_state=42)\n",
    "\n",
    "# Creation du paramétres grid\n",
    "rf_param_grid = {\n",
    "    'max_features': ['auto','sqrt','log2'],\n",
    "    'n_estimators': [100, 200, 300, 1000]\n",
    "}\n",
    "\n",
    "rf_model =RandomForestRegressor() \n",
    "\n",
    "# Instantiation  du modéle de  grid search\n",
    "rf_grid_search = GridSearchCV(estimator = rf_model, param_grid = rf_param_grid,\n",
    "                           cv=rf_folds, n_jobs=-1, verbose=2, scoring='r2')\n",
    "\n",
    "\n",
    "# Entrainement du modéle rf_model avec X_train\n",
    "rf_grid_search.fit(X_train, y_train)\n",
    "\n",
    "# Vérification des meilleurs parametres de de grid_search \n",
    "print(rf_grid_search.best_params_)"
   ]
  },
  {
   "cell_type": "code",
   "execution_count": 145,
   "metadata": {
    "colab": {
     "base_uri": "https://localhost:8080/"
    },
    "id": "yN7G9oCwNY0_",
    "outputId": "9deb8933-a6aa-4f8a-c2dd-00d59b4df3bc"
   },
   "outputs": [
    {
     "name": "stdout",
     "output_type": "stream",
     "text": [
      "RandomForestRegressor(max_features='sqrt', n_estimators=1000)\n"
     ]
    }
   ],
   "source": [
    "# Paramétres optimisés du modéle randomforest pour le meilleur estimateur\n",
    "rf_best_grid = rf_grid_search.best_estimator_\n",
    "print(rf_best_grid)"
   ]
  },
  {
   "cell_type": "code",
   "execution_count": 146,
   "metadata": {
    "colab": {
     "base_uri": "https://localhost:8080/"
    },
    "id": "BUBTTRb9NZNF",
    "outputId": "48e604e5-6a03-4e8c-c97d-d478fc50950f"
   },
   "outputs": [
    {
     "name": "stdout",
     "output_type": "stream",
     "text": [
      "0.7792267033273086\n"
     ]
    }
   ],
   "source": [
    "# le score r2 du meilleur estimateur\n",
    "print(rf_best_grid.score(X_test, y_test))"
   ]
  },
  {
   "cell_type": "markdown",
   "metadata": {
    "id": "BsChnxvcMGhK"
   },
   "source": [
    "**2.4.Entraînement et évaluation du modèle Ridge**\n",
    "\n",
    "\n",
    "\n"
   ]
  },
  {
   "cell_type": "code",
   "execution_count": 147,
   "metadata": {
    "colab": {
     "base_uri": "https://localhost:8080/"
    },
    "id": "UO21KBA1OS7H",
    "outputId": "5193b4b4-9bae-4b2c-fc82-60a0cd58a4ae"
   },
   "outputs": [
    {
     "name": "stdout",
     "output_type": "stream",
     "text": [
      "Fitting 7 folds for each of 128 candidates, totalling 896 fits\n",
      "{'alpha': 100, 'fit_intercept': True, 'normalize': False, 'solver': 'lsqr'}\n"
     ]
    }
   ],
   "source": [
    "# A partir du module linear_model de la librairie scikit learn on importe la fonction RandomForestRegressor\n",
    "\n",
    "from sklearn.linear_model import Ridge\n",
    "\n",
    "# A partir du module model_selection de la librairie scikit learn on importe la fonction cross_validate , KFold et GridSearchCV\n",
    "\n",
    "from sklearn.model_selection import cross_val_score, KFold, GridSearchCV\n",
    "\n",
    "#on utilise shuffle afin de mélanger les observations du dataset\n",
    "\n",
    "ridge_folds = KFold(n_splits = 7, shuffle = True, random_state=42)\n",
    "\n",
    "# Creation du paramétres grid\n",
    "ridge_param_grid = {\n",
    "    'solver': ['svd', 'cholesky', 'lsqr', 'sag'],\n",
    "    'alpha': [1e-5, 1e-4, 1e-3, 1e-2, 1e-1, 1, 10, 100],\n",
    "    'fit_intercept': [True, False],\n",
    "    'normalize': [True, False]\n",
    "}\n",
    "\n",
    "\n",
    "ridge_model =Ridge() \n",
    "\n",
    "# Instantiation  du modéle de  grid search\n",
    "ridge_grid_search = GridSearchCV(estimator = ridge_model, param_grid = ridge_param_grid,\n",
    "                           cv=ridge_folds, n_jobs=-1, verbose=2, scoring='r2')\n",
    "\n",
    "\n",
    "# Entrainement du modéle rf_model avec X_train\n",
    "ridge_grid_search.fit(X_train, y_train)\n",
    "\n",
    "# Vérification des meilleurs parametres de de grid_search \n",
    "print(ridge_grid_search.best_params_)"
   ]
  },
  {
   "cell_type": "code",
   "execution_count": 148,
   "metadata": {
    "colab": {
     "base_uri": "https://localhost:8080/"
    },
    "id": "AOy8ttv3OSt-",
    "outputId": "aa2a3328-7ed0-4299-9f62-33a78b2ee622"
   },
   "outputs": [
    {
     "name": "stdout",
     "output_type": "stream",
     "text": [
      "Ridge(alpha=100, solver='lsqr')\n"
     ]
    }
   ],
   "source": [
    "# Paramétres optimisés du modéle Ridge pour le meilleur estimateur\n",
    "ridge_best_grid = ridge_grid_search.best_estimator_\n",
    "print(ridge_best_grid)"
   ]
  },
  {
   "cell_type": "code",
   "execution_count": 149,
   "metadata": {
    "colab": {
     "base_uri": "https://localhost:8080/"
    },
    "id": "2UzTJjl5OSaO",
    "outputId": "d76d7399-9ba2-470c-b520-38ca7a8acb60"
   },
   "outputs": [
    {
     "name": "stdout",
     "output_type": "stream",
     "text": [
      "0.7995510925443807\n"
     ]
    }
   ],
   "source": [
    "# le score r2 du meilleur estimateur\n",
    "print(ridge_best_grid.score(X_test, y_test))"
   ]
  },
  {
   "cell_type": "markdown",
   "metadata": {
    "id": "18DYzpIlHsMp"
   },
   "source": [
    "**2.5.Entraînement et évaluation du modèle DecisionTreeRegressor**"
   ]
  },
  {
   "cell_type": "code",
   "execution_count": 150,
   "metadata": {
    "colab": {
     "base_uri": "https://localhost:8080/"
    },
    "id": "JTih3rDPO37t",
    "outputId": "6d72a74c-973e-4ec8-b818-267659897437"
   },
   "outputs": [
    {
     "name": "stdout",
     "output_type": "stream",
     "text": [
      "Fitting 7 folds for each of 81 candidates, totalling 567 fits\n",
      "{'max_depth': 8, 'max_leaf_nodes': 100, 'min_samples_leaf': 20, 'min_samples_split': 20}\n"
     ]
    }
   ],
   "source": [
    "# A partir du module tree de la librairie scikit learn on importe la fonction DecisionTreeRegresso\n",
    "\n",
    "from sklearn.tree import DecisionTreeRegressor\n",
    "\n",
    "# A partir du module model_selection de la librairie scikit learn on importe la fonction cross_validate , KFold et GridSearchCV\n",
    "\n",
    "from sklearn.model_selection import cross_val_score, KFold, GridSearchCV\n",
    "\n",
    "#on utilise shuffle afin de mélanger les observations du dataset\n",
    "\n",
    "dtr_folds = KFold(n_splits = 7, shuffle = True, random_state=42)\n",
    "\n",
    "# Creation du paramétres grid\n",
    "dtr_param_grid = {\n",
    "    \n",
    "    \"min_samples_split\": [10, 20, 40],\n",
    "    \"max_depth\": [2, 6, 8],\n",
    "    \"min_samples_leaf\": [20, 40, 100],\n",
    "    \"max_leaf_nodes\": [5, 20, 100],\n",
    "    \n",
    "}\n",
    "\n",
    "dtr_model =DecisionTreeRegressor() \n",
    "\n",
    "# Instantiation  du modéle de  grid search\n",
    "dtr_grid_search = GridSearchCV(estimator = dtr_model, param_grid = dtr_param_grid,\n",
    "                           cv=dtr_folds, n_jobs=-1, verbose=2, scoring='r2')\n",
    "\n",
    "\n",
    "# Entrainement du modéle rf_model avec X_train\n",
    "dtr_grid_search.fit(X_train, y_train)\n",
    "\n",
    "# Vérification des meilleurs parametres de de grid_search \n",
    "print(dtr_grid_search.best_params_)"
   ]
  },
  {
   "cell_type": "code",
   "execution_count": 151,
   "metadata": {
    "colab": {
     "base_uri": "https://localhost:8080/"
    },
    "id": "vXh2tluQO3yt",
    "outputId": "bc6b95b9-0ef4-4b22-f7c0-5c5b69f9eb28"
   },
   "outputs": [
    {
     "name": "stdout",
     "output_type": "stream",
     "text": [
      "DecisionTreeRegressor(max_depth=8, max_leaf_nodes=100, min_samples_leaf=20,\n",
      "                      min_samples_split=20)\n"
     ]
    }
   ],
   "source": [
    "# Paramétres optimisés du modéle DecisionTreeRegresso pour le meilleur estimateur\n",
    "dtr_best_grid = dtr_grid_search.best_estimator_\n",
    "print(dtr_best_grid)"
   ]
  },
  {
   "cell_type": "code",
   "execution_count": 152,
   "metadata": {
    "colab": {
     "base_uri": "https://localhost:8080/"
    },
    "id": "Y4KREcz7O3dG",
    "outputId": "3c7760e5-798d-4c23-ec02-0999f0b36f1c"
   },
   "outputs": [
    {
     "name": "stdout",
     "output_type": "stream",
     "text": [
      "0.766966442238213\n"
     ]
    }
   ],
   "source": [
    "# le score r2 du meilleur estimateur\n",
    "print(dtr_best_grid.score(X_test, y_test))"
   ]
  },
  {
   "cell_type": "markdown",
   "metadata": {
    "id": "rZboiGR5OxQ1"
   },
   "source": [
    "**2.6.Performances des modéles Ridge , Random Forest , Decison Tree et linearRegression**"
   ]
  },
  {
   "cell_type": "markdown",
   "metadata": {
    "id": "-KnpklMlPLLG"
   },
   "source": [
    "les scores des différents modéles sont ci-dessous :"
   ]
  },
  {
   "cell_type": "code",
   "execution_count": 153,
   "metadata": {
    "colab": {
     "base_uri": "https://localhost:8080/"
    },
    "id": "biUh1A3vPMCN",
    "outputId": "a6d13d24-db69-4c31-8140-7bab5bc8cede"
   },
   "outputs": [
    {
     "name": "stdout",
     "output_type": "stream",
     "text": [
      "Le coefficient de détermination R2 du modéle  Ridge: 0.7995510925443807\n",
      "Le coefficient de détermination R2 du modéle Random Forest: 0.7792267033273086\n",
      "Le coefficient de détermination R2 du modéle Decison Tree: 0.766966442238213\n",
      "Le coefficient de détermination R2 du modéle linearRegression: 0.8031284750503873\n"
     ]
    }
   ],
   "source": [
    "print(\"Le coefficient de détermination R2 du modéle  Ridge:\", ridge_best_grid.score(X_test, y_test))\n",
    "print(\"Le coefficient de détermination R2 du modéle Random Forest:\", rf_best_grid.score(X_test, y_test))\n",
    "print(\"Le coefficient de détermination R2 du modéle Decison Tree:\", dtr_best_grid.score(X_test, y_test))\n",
    "print(\"Le coefficient de détermination R2 du modéle linearRegression:\", lrg_best_grid.score(X_test, y_test))"
   ]
  },
  {
   "cell_type": "markdown",
   "metadata": {
    "id": "D1gnTdE5QHCO"
   },
   "source": [
    "Comparons maintenant graphiquement les erreurs des quatre modéles de regression"
   ]
  },
  {
   "cell_type": "code",
   "execution_count": 154,
   "metadata": {
    "colab": {
     "base_uri": "https://localhost:8080/",
     "height": 1000
    },
    "id": "5XGy1fcsQPyH",
    "outputId": "ee7a3ebf-17c5-4f8d-b807-756d14d29f2d"
   },
   "outputs": [
    {
     "data": {
      "image/png": "[encoded data removed]",
      "text/plain": [
       "<Figure size 1440x1440 with 1 Axes>"
      ]
     },
     "metadata": {
      "needs_background": "light"
     },
     "output_type": "display_data"
    }
   ],
   "source": [
    "# prédictions de X_test avec les différents modéles\n",
    "y_pred_lrg = lrg_best_grid.predict(X_test)\n",
    "y_pred_ridge = ridge_best_grid.predict(X_test)\n",
    "y_pred_rf = rf_best_grid.predict(X_test)\n",
    "y_pred_dtr = dtr_best_grid.predict(X_test)\n",
    "\n",
    "# Calcul des erreurs par ordre croissant\n",
    "y_lrg = list(sorted(y_pred_lrg - y_test))\n",
    "y_ridge = list(sorted(y_pred_ridge - y_test))\n",
    "y_rf = list(sorted(y_pred_rf - y_test))\n",
    "y_dtr = list(sorted(y_pred_dtr - y_test))\n",
    "y_test_listed = list(sorted(y_test))\n",
    "\n",
    "fig = plt.figure(figsize=(20, 20))\n",
    "ax = plt.subplot()\n",
    "ax.plot([0, len(y_test_listed)], [0, 0], '-')\n",
    "\n",
    "\n",
    "ax.plot(y_lrg, '.', label=\"linear\")\n",
    "ax.plot(y_dtr, '.', label=\"tree\")\n",
    "ax.plot(y_rf, '.', label=\"forest\")\n",
    "ax.plot(y_ridge, '.', label=\"ridge\")\n",
    "#ax.plot(y_test_listed, '.', label=\"y_test\")\n",
    "\n",
    "ax.legend()\n",
    "\n",
    "plt.show();"
   ]
  },
  {
   "cell_type": "markdown",
   "metadata": {
    "id": "KsrTF-sqQpya"
   },
   "source": [
    "A partir du graphe ci-dessus on constate que les modéles minimisant le plus le taux d'erreur sont : Ridge et LinearRegression . Ajoutons a cela qu'ils sont les plus adéquats avec les données en se basant sur le coefficient de détermination R2. A partir de ce constat il semblerait que Ridge et LinearRegression soient les meilleurs modéles pour ce jeu de données"
   ]
  },
  {
   "cell_type": "markdown",
   "metadata": {
    "id": "5PXye8Ktw1cM"
   },
   "source": [
    "# **Sauvegarde des modéles**"
   ]
  },
  {
   "cell_type": "code",
   "execution_count": 155,
   "metadata": {
    "colab": {
     "base_uri": "https://localhost:8080/"
    },
    "id": "LjCcT1Lmw7Ly",
    "outputId": "535d58a7-37b2-4823-d2f1-1c415c7662e5"
   },
   "outputs": [],
   "source": [
    "import joblib"
   ]
  },
  {
   "cell_type": "markdown",
   "metadata": {
    "id": "HHnDJ4jj4OdZ"
   },
   "source": [
    "sauvegarde du modéle decisiontree"
   ]
  },
  {
   "cell_type": "code",
   "execution_count": 156,
   "metadata": {
    "id": "WOr3Bt8Sw-9L"
   },
   "outputs": [],
   "source": [
    "decisiontreModel = open(\"decisiontreemodel.pkl\",\"wb\")\n",
    "joblib.dump(dtr_best_grid,decisiontreModel)\n",
    "decisiontreModel.close()"
   ]
  },
  {
   "cell_type": "markdown",
   "metadata": {
    "id": "OAUsLhmz4IvZ"
   },
   "source": [
    "sauvegarde du modéle randomforest"
   ]
  },
  {
   "cell_type": "code",
   "execution_count": 157,
   "metadata": {
    "id": "qjOomlc03RQ4"
   },
   "outputs": [],
   "source": [
    "randomforestModel = open(\"randomforestModel.pkl\",\"wb\")\n",
    "joblib.dump(rf_best_grid,randomforestModel)\n",
    "randomforestModel.close()"
   ]
  },
  {
   "cell_type": "markdown",
   "metadata": {
    "id": "WyYF8rKC3-br"
   },
   "source": [
    "sauvegarde du modéle ridge"
   ]
  },
  {
   "cell_type": "code",
   "execution_count": 158,
   "metadata": {
    "id": "jyMZTFaO3tlD"
   },
   "outputs": [],
   "source": [
    "ridgeModel = open(\"ridgeModel.pkl\",\"wb\")\n",
    "joblib.dump(ridge_best_grid,ridgeModel)\n",
    "ridgeModel.close()"
   ]
  },
  {
   "cell_type": "markdown",
   "metadata": {
    "id": "Zaelxkvq4jQx"
   },
   "source": [
    "sauvegarde du modéle linéaire"
   ]
  },
  {
   "cell_type": "code",
   "execution_count": 159,
   "metadata": {
    "id": "6Tg0c7Ub4ni8"
   },
   "outputs": [],
   "source": [
    "lineareModel = open(\"lineareModel.pkl\",\"wb\")\n",
    "joblib.dump(lrg_best_grid,lineareModel)\n",
    "lineareModel.close()"
   ]
  },
  {
   "cell_type": "markdown",
   "metadata": {
    "id": "bk52eUAT5DNU"
   },
   "source": [
    "Charger les modéles du disque"
   ]
  },
  {
   "cell_type": "code",
   "execution_count": 160,
   "metadata": {
    "colab": {
     "base_uri": "https://localhost:8080/",
     "height": 380
    },
    "id": "8LpXUW6R5Dna",
    "outputId": "606ada7f-b82f-4553-cd05-da3ed5c0e120"
   },
   "outputs": [
    {
     "name": "stdout",
     "output_type": "stream",
     "text": [
      "0.8031284750503873\n"
     ]
    }
   ],
   "source": [
    "# load the model from disk\n",
    "\n",
    "lineareModel = open(\"lineareModel.pkl\",\"rb\")\n",
    "loaded_model = joblib.load(lineareModel)\n",
    "result = loaded_model.score(X_test, y_test)\n",
    "print(result)"
   ]
  },
  {
   "cell_type": "code",
   "execution_count": 161,
   "metadata": {},
   "outputs": [
    {
     "name": "stdout",
     "output_type": "stream",
     "text": [
      "['hum_min' 'hum_max' 'hum_mean' 'hum_q25' 'hum_q50' 'hum_q75'\n",
      " 'windspeed_min' 'windspeed_max' 'windspeed_mean' 'windspeed_q25'\n",
      " 'windspeed_q50' 'windspeed_q75' 'temp_min' 'temp_max' 'temp_mean'\n",
      " 'temp_q25' 'temp_q50' 'temp_q75' 'atemp_min' 'atemp_max' 'atemp_mean'\n",
      " 'atemp_q25' 'atemp_q50' 'atemp_q75' 'clear' 'cloudy' 'rainy' 'snowy'\n",
      " 'cnt' 'cnt_j_1' 'cnt_j_2' 'cnt_j_3' 'cnt_j_4' 'cnt_j_5' 'cnt_j_6'\n",
      " 'cnt_j_7' 'cnt_lendemain']\n"
     ]
    }
   ],
   "source": [
    "\n",
    "print(data_jour_annee.columns.values)"
   ]
  },
  {
   "cell_type": "code",
   "execution_count": 183,
   "metadata": {},
   "outputs": [],
   "source": [
    "  hum_min = 0.44\n",
    "  hum_max = 0.69\n",
    "  hum_mean = 0.577500\n",
    "  hum_q25 = 0.5325\n",
    "  hum_q50 = 0.595\n",
    "  hum_q75 = 0.6400\n",
    "  windspeed_min= 6.0032\n",
    "  windspeed_max= 15.0013\n",
    "  windspeed_mean= 10.374671\n",
    "  windspeed_q25= 8.998100\n",
    "  windspeed_q50= 11.00140\n",
    "  windspeed_q75= 12.998000\n",
    "  temp_min= -1.42\n",
    "  temp_max= 5.16\n",
    "  temp_mean= 2.144167\n",
    "  temp_q25= -0.48\n",
    "  temp_q50= 2.81\n",
    "  temp_q75= 4.220\n",
    "  atemp_min= -6.0010\n",
    "  atemp_max= 3.0014\n",
    "  atemp_mean= -1.249825\n",
    "  atemp_q25= -4.00120\n",
    "  atemp_q50= -0.9982\n",
    "  atemp_q75= 1.25075\n",
    "  clear= 0.500000\n",
    "  cloudy= 0.500000\n",
    "  rainy= 0\n",
    "  snowy= 0\n",
    "  cnt= 2729\n",
    "  cnt_j_1= 1796\n",
    "  cnt_j_2= 1341\n",
    "  cnt_j_3= 3095\n",
    "  cnt_j_4= 2114\n",
    "  cnt_j_5= 441\n",
    "  cnt_j_6= 1013\n",
    "  cnt_j_7= 920"
   ]
  },
  {
   "cell_type": "code",
   "execution_count": 164,
   "metadata": {},
   "outputs": [],
   "source": [
    "data = {\n",
    "  \"hum_min\": 0.44,\n",
    "  \"hum_max\": 0.69,\n",
    "  \"hum_mean\": 0.577500,\n",
    "  \"hum_q25\": 0.5325,\n",
    "  \"hum_q50\": 0.595,\n",
    "  \"hum_q75\": 0.6400,\n",
    "  \"windspeed_min\": 6.0032,\n",
    "  \"windspeed_max\": 15.0013,\n",
    "  \"windspeed_mean\": 10.374671,\n",
    "  \"windspeed_q25\": 8.998100,\n",
    "  \"windspeed_q50\": 11.00140,\n",
    "  \"windspeed_q75\": 12.998000,\n",
    "  \"temp_min\": -1.42,\n",
    "  \"temp_max\": 5.16,\n",
    "  \"temp_mean\": 2.144167,\n",
    "  \"temp_q25\": -0.48,\n",
    "  \"temp_q50\": 2.81,\n",
    "  \"temp_q75\": 4.220,\n",
    "  \"atemp_min\": -6.0010,\n",
    "  \"atemp_max\": 3.0014,\n",
    "  \"atemp_mean\": -1.249825,\n",
    "  \"atemp_q25\": -4.00120,\n",
    "  \"atemp_q50\": -0.9982,\n",
    "  \"atemp_q75\": 1.25075,\n",
    "  \"clear\": 0.500000,\n",
    "  \"cloudy\": 0.500000,\n",
    "  \"rainy\": 0,\n",
    "  \"snowy\": 0,\n",
    "  \"cnt\": 2729,\n",
    "  \"cnt_j_1\": 1796,\n",
    "  \"cnt_j_2\": 1341,\n",
    "  \"cnt_j_3\": 3095,\n",
    "  \"cnt_j_4\": 2114,\n",
    "  \"cnt_j_5\": 441,\n",
    "  \"cnt_j_6\": 1013,\n",
    "  \"cnt_j_7\": 920\n",
    "}"
   ]
  },
  {
   "cell_type": "code",
   "execution_count": 165,
   "metadata": {},
   "outputs": [
    {
     "data": {
      "text/plain": [
       "{'hum_min': 0.44,\n",
       " 'hum_max': 0.69,\n",
       " 'hum_mean': 0.5775,\n",
       " 'hum_q25': 0.5325,\n",
       " 'hum_q50': 0.595,\n",
       " 'hum_q75': 0.64,\n",
       " 'windspeed_min': 6.0032,\n",
       " 'windspeed_max': 15.0013,\n",
       " 'windspeed_mean': 10.374671,\n",
       " 'windspeed_q25': 8.9981,\n",
       " 'windspeed_q50': 11.0014,\n",
       " 'windspeed_q75': 12.998,\n",
       " 'temp_min': -1.42,\n",
       " 'temp_max': 5.16,\n",
       " 'temp_mean': 2.144167,\n",
       " 'temp_q25': -0.48,\n",
       " 'temp_q50': 2.81,\n",
       " 'temp_q75': 4.22,\n",
       " 'atemp_min': -6.001,\n",
       " 'atemp_max': 3.0014,\n",
       " 'atemp_mean': -1.249825,\n",
       " 'atemp_q25': -4.0012,\n",
       " 'atemp_q50': -0.9982,\n",
       " 'atemp_q75': 1.25075,\n",
       " 'clear': 0.5,\n",
       " 'cloudy': 0.5,\n",
       " 'rainy': 0,\n",
       " 'snowy': 0,\n",
       " 'cnt': 2729,\n",
       " 'cnt_j_1': 1796,\n",
       " 'cnt_j_2': 1341,\n",
       " 'cnt_j_3': 3095,\n",
       " 'cnt_j_4': 2114,\n",
       " 'cnt_j_5': 441,\n",
       " 'cnt_j_6': 1013,\n",
       " 'cnt_j_7': 920}"
      ]
     },
     "execution_count": 165,
     "metadata": {},
     "output_type": "execute_result"
    }
   ],
   "source": [
    "data"
   ]
  },
  {
   "cell_type": "code",
   "execution_count": 184,
   "metadata": {},
   "outputs": [],
   "source": [
    "X_b = [hum_min,hum_max,hum_mean,hum_q25,hum_q50,hum_q75,\n",
    "       windspeed_min, windspeed_max, windspeed_mean, windspeed_q25, windspeed_q50, windspeed_q75,\n",
    "       temp_min, temp_max, temp_mean, temp_q25, temp_q50, temp_q75,\n",
    "       atemp_min, atemp_max, atemp_mean, atemp_q25, atemp_q50, atemp_q75,\n",
    "       clear, cloudy, rainy , snowy,\n",
    "       cnt , cnt_j_1 , cnt_j_2 , cnt_j_3, cnt_j_4, cnt_j_5 , cnt_j_6, cnt_j_7]"
   ]
  },
  {
   "cell_type": "code",
   "execution_count": 185,
   "metadata": {},
   "outputs": [],
   "source": [
    "X_bike = np.array([[hum_min,hum_max,hum_mean,hum_q25,hum_q50,hum_q75,windspeed_min, windspeed_max, windspeed_mean, windspeed_q25, windspeed_q50, windspeed_q75,temp_min, temp_max, temp_mean, temp_q25, temp_q50, temp_q75,atemp_min, atemp_max, atemp_mean, atemp_q25, atemp_q50, atemp_q75,clear, cloudy, rainy , snowy,cnt , cnt_j_1 , cnt_j_2 , cnt_j_3, cnt_j_4, cnt_j_5 , cnt_j_6, cnt_j_7]])"
   ]
  },
  {
   "cell_type": "code",
   "execution_count": 186,
   "metadata": {},
   "outputs": [
    {
     "name": "stdout",
     "output_type": "stream",
     "text": [
      "[[ 4.4000000e-01  6.9000000e-01  5.7750000e-01  5.3250000e-01\n",
      "   5.9500000e-01  6.4000000e-01  6.0032000e+00  1.5001300e+01\n",
      "   1.0374671e+01  8.9981000e+00  1.1001400e+01  1.2998000e+01\n",
      "  -1.4200000e+00  5.1600000e+00  2.1441670e+00 -4.8000000e-01\n",
      "   2.8100000e+00  4.2200000e+00 -6.0010000e+00  3.0014000e+00\n",
      "  -1.2498250e+00 -4.0012000e+00 -9.9820000e-01  1.2507500e+00\n",
      "   5.0000000e-01  5.0000000e-01  0.0000000e+00  0.0000000e+00\n",
      "   2.7290000e+03  1.7960000e+03  1.3410000e+03  3.0950000e+03\n",
      "   2.1140000e+03  4.4100000e+02  1.0130000e+03  9.2000000e+02]]\n"
     ]
    }
   ],
   "source": [
    "X_bike.shape\n",
    "print(X_bike)"
   ]
  },
  {
   "cell_type": "code",
   "execution_count": 188,
   "metadata": {
    "scrolled": true
   },
   "outputs": [],
   "source": [
    "preidction = rf_best_grid.predict(X_bike)"
   ]
  },
  {
   "cell_type": "code",
   "execution_count": 189,
   "metadata": {},
   "outputs": [
    {
     "name": "stdout",
     "output_type": "stream",
     "text": [
      "[3622.943]\n"
     ]
    }
   ],
   "source": [
    "print(preidction)"
   ]
  },
  {
   "cell_type": "code",
   "execution_count": null,
   "metadata": {},
   "outputs": [],
   "source": []
  }
 ],
 "metadata": {
  "colab": {
   "collapsed_sections": [],
   "name": "Bike.ipynb",
   "provenance": []
  },
  "kernelspec": {
   "display_name": "Python 3",
   "language": "python",
   "name": "python3"
  },
  "language_info": {
   "codemirror_mode": {
    "name": "ipython",
    "version": 3
   },
   "file_extension": ".py",
   "mimetype": "text/x-python",
   "name": "python",
   "nbconvert_exporter": "python",
   "pygments_lexer": "ipython3",
   "version": "3.8.8"
  }
 },
 "nbformat": 4,
 "nbformat_minor": 1
}
